{
 "cells": [
  {
   "cell_type": "code",
   "execution_count": 1,
   "id": "be70f056",
   "metadata": {
    "_cell_guid": "b1076dfc-b9ad-4769-8c92-a6c4dae69d19",
    "_uuid": "8f2839f25d086af736a60e9eeb907d3b93b6e0e5",
    "execution": {
     "iopub.execute_input": "2024-03-18T07:49:48.302297Z",
     "iopub.status.busy": "2024-03-18T07:49:48.301683Z",
     "iopub.status.idle": "2024-03-18T07:49:50.637788Z",
     "shell.execute_reply": "2024-03-18T07:49:50.636473Z"
    },
    "papermill": {
     "duration": 2.362686,
     "end_time": "2024-03-18T07:49:50.640703",
     "exception": false,
     "start_time": "2024-03-18T07:49:48.278017",
     "status": "completed"
    },
    "tags": []
   },
   "outputs": [],
   "source": [
    "# This Python 3 environment comes with many helpful analytics libraries installed\n",
    "# It is defined by the kaggle/python Docker image: https://github.com/kaggle/docker-python\n",
    "# For example, here's several helpful packages to load\n",
    "\n",
    "import numpy as np # linear algebra\n",
    "import pandas as pd # data processing, CSV file I/O (e.g. pd.read_csv)\n",
    "import librosa\n",
    "import scipy\n",
    "from sklearn.svm import SVC\n",
    "import os\n",
    "# for dirname, _, filenames in os.walk('/kaggle/input'):\n",
    "#     for filename in filenames:\n",
    "#         pass\n",
    "\n",
    "# You can write up to 20GB to the current directory (/kaggle/working/) that gets preserved as output when you create a version using \"Save & Run All\" \n",
    "# You can also write temporary files to /kaggle/temp/, but they won't be saved outside of the current session"
   ]
  },
  {
   "cell_type": "code",
   "execution_count": 2,
   "id": "b3b02efb",
   "metadata": {
    "execution": {
     "iopub.execute_input": "2024-03-18T07:49:50.682664Z",
     "iopub.status.busy": "2024-03-18T07:49:50.681526Z",
     "iopub.status.idle": "2024-03-18T07:49:52.605992Z",
     "shell.execute_reply": "2024-03-18T07:49:52.605028Z"
    },
    "papermill": {
     "duration": 1.948315,
     "end_time": "2024-03-18T07:49:52.608725",
     "exception": false,
     "start_time": "2024-03-18T07:49:50.660410",
     "status": "completed"
    },
    "tags": []
   },
   "outputs": [],
   "source": [
    "en_real_df = pd.read_csv('/kaggle/input/deepfake-audio-feature-data/english_real_features_output.csv')\n",
    "fr_real_df = pd.read_csv('/kaggle/input/deepfake-audio-feature-data/french_real_features_output.csv')\n",
    "es_real_df = pd.read_csv('/kaggle/input/deepfake-audio-feature-data/spanish_real_features_output.csv')\n",
    "en_fake_df = pd.read_csv('/kaggle/input/deepfake-audio-feature-data/english_fake_features_output.csv')\n",
    "fr_fake_df = pd.read_csv('/kaggle/input/deepfake-audio-feature-data/french_fake_features_output.csv')\n",
    "es_fake_df = pd.read_csv('/kaggle/input/deepfake-audio-feature-data/spanish_fake_features_output.csv')\n",
    "fr_real_df = fr_real_df[:5000]\n",
    "en_real_df = en_real_df[:7500]\n",
    "es_real_df = es_real_df[:5000]\n",
    "fr_real_df['label'] = 1\n",
    "en_real_df['label'] = 1\n",
    "es_real_df['label'] = 1\n",
    "fr_fake_df['label'] = 0\n",
    "en_fake_df['label'] = 0\n",
    "es_fake_df['label'] = 0"
   ]
  },
  {
   "cell_type": "markdown",
   "id": "cc3cffa1",
   "metadata": {
    "papermill": {
     "duration": 0.019119,
     "end_time": "2024-03-18T07:49:52.647611",
     "exception": false,
     "start_time": "2024-03-18T07:49:52.628492",
     "status": "completed"
    },
    "tags": []
   },
   "source": [
    "# Feature Extraction Function"
   ]
  },
  {
   "cell_type": "code",
   "execution_count": 3,
   "id": "9196bb8d",
   "metadata": {
    "execution": {
     "iopub.execute_input": "2024-03-18T07:49:52.688871Z",
     "iopub.status.busy": "2024-03-18T07:49:52.688506Z",
     "iopub.status.idle": "2024-03-18T07:49:52.698750Z",
     "shell.execute_reply": "2024-03-18T07:49:52.697650Z"
    },
    "papermill": {
     "duration": 0.033145,
     "end_time": "2024-03-18T07:49:52.701024",
     "exception": false,
     "start_time": "2024-03-18T07:49:52.667879",
     "status": "completed"
    },
    "tags": []
   },
   "outputs": [],
   "source": [
    "def give_audio_feature(audio_file_path):\n",
    "    audio, sr = librosa.load(audio_file_path, sr=None)\n",
    "    # Extract features (e.g., MFCC)\n",
    "    mfcc_features = librosa.feature.mfcc(y=audio, sr=sr, n_mfcc=13)\n",
    "    spectral_centroid = librosa.feature.spectral_centroid(y=audio, sr=sr)\n",
    "    spectral_bandwidth = librosa.feature.spectral_bandwidth(y=audio, sr=sr)\n",
    "    spectral_contrast = librosa.feature.spectral_contrast(y=audio, sr=sr)\n",
    "    spectral_rolloff = librosa.feature.spectral_rolloff(y=audio, sr=sr)\n",
    "    zero_crossing_rate = librosa.feature.zero_crossing_rate(y=audio)\n",
    "    # Compute temporal statistical features\n",
    "    mean = np.mean(audio)\n",
    "    std_dev = np.std(audio)\n",
    "    skewness = scipy.stats.skew(audio)\n",
    "    kurtosis = scipy.stats.kurtosis(audio)\n",
    "    # Concatenate all features\n",
    "    combined_features = np.concatenate([\n",
    "            mfcc_features.mean(axis=1),\n",
    "            mfcc_features.std(axis=1),\n",
    "            spectral_contrast.mean(axis=1),\n",
    "            [spectral_centroid.mean(),\n",
    "            spectral_bandwidth.mean(),\n",
    "            spectral_rolloff.mean(),\n",
    "            zero_crossing_rate.mean(),\n",
    "            mean, std_dev, skewness, kurtosis]])\n",
    "    \n",
    "    return combined_features"
   ]
  },
  {
   "cell_type": "markdown",
   "id": "46a6bff5",
   "metadata": {
    "papermill": {
     "duration": 0.019137,
     "end_time": "2024-03-18T07:49:52.740064",
     "exception": false,
     "start_time": "2024-03-18T07:49:52.720927",
     "status": "completed"
    },
    "tags": []
   },
   "source": [
    "# Dataset Cleaning Completed"
   ]
  },
  {
   "cell_type": "code",
   "execution_count": 4,
   "id": "8e590853",
   "metadata": {
    "execution": {
     "iopub.execute_input": "2024-03-18T07:49:52.780322Z",
     "iopub.status.busy": "2024-03-18T07:49:52.779940Z",
     "iopub.status.idle": "2024-03-18T07:49:53.381137Z",
     "shell.execute_reply": "2024-03-18T07:49:53.379931Z"
    },
    "papermill": {
     "duration": 0.62451,
     "end_time": "2024-03-18T07:49:53.383892",
     "exception": false,
     "start_time": "2024-03-18T07:49:52.759382",
     "status": "completed"
    },
    "tags": []
   },
   "outputs": [],
   "source": [
    "better_fake = pd.read_csv(\"/kaggle/input/immediate/feature_df.csv\")\n",
    "selected_rows = better_fake[better_fake['class'] == 0]\n",
    "selected_rows = selected_rows.rename(columns={'class': 'label'})"
   ]
  },
  {
   "cell_type": "code",
   "execution_count": 5,
   "id": "a367994b",
   "metadata": {
    "execution": {
     "iopub.execute_input": "2024-03-18T07:49:53.425974Z",
     "iopub.status.busy": "2024-03-18T07:49:53.425579Z",
     "iopub.status.idle": "2024-03-18T07:49:53.433232Z",
     "shell.execute_reply": "2024-03-18T07:49:53.432166Z"
    },
    "papermill": {
     "duration": 0.03128,
     "end_time": "2024-03-18T07:49:53.435513",
     "exception": false,
     "start_time": "2024-03-18T07:49:53.404233",
     "status": "completed"
    },
    "tags": []
   },
   "outputs": [
    {
     "data": {
      "text/plain": [
       "(13659, 42)"
      ]
     },
     "execution_count": 5,
     "metadata": {},
     "output_type": "execute_result"
    }
   ],
   "source": [
    "selected_rows.shape"
   ]
  },
  {
   "cell_type": "code",
   "execution_count": 6,
   "id": "d43cbe51",
   "metadata": {
    "execution": {
     "iopub.execute_input": "2024-03-18T07:49:53.476702Z",
     "iopub.status.busy": "2024-03-18T07:49:53.476284Z",
     "iopub.status.idle": "2024-03-18T07:49:53.480878Z",
     "shell.execute_reply": "2024-03-18T07:49:53.479657Z"
    },
    "papermill": {
     "duration": 0.027875,
     "end_time": "2024-03-18T07:49:53.483030",
     "exception": false,
     "start_time": "2024-03-18T07:49:53.455155",
     "status": "completed"
    },
    "tags": []
   },
   "outputs": [],
   "source": [
    "data = []\n",
    "label = []"
   ]
  },
  {
   "cell_type": "code",
   "execution_count": 7,
   "id": "e2b37bdd",
   "metadata": {
    "execution": {
     "iopub.execute_input": "2024-03-18T07:49:53.524655Z",
     "iopub.status.busy": "2024-03-18T07:49:53.523904Z",
     "iopub.status.idle": "2024-03-18T07:50:17.476616Z",
     "shell.execute_reply": "2024-03-18T07:50:17.475608Z"
    },
    "papermill": {
     "duration": 23.976422,
     "end_time": "2024-03-18T07:50:17.479232",
     "exception": false,
     "start_time": "2024-03-18T07:49:53.502810",
     "status": "completed"
    },
    "tags": []
   },
   "outputs": [
    {
     "name": "stdout",
     "output_type": "stream",
     "text": [
      "human_voice_Script3.mp3\n",
      "human_voice_Script2.mp3\n",
      "human_voice_Script6.mp3\n",
      "hospital_claims.mp3\n",
      "insurance_brother.wav\n",
      "audio_file (3).wav\n",
      "Usecase1_2.wav\n",
      "CancelCard.mp3\n",
      "creditcard_bill.mp3\n",
      "audio_file (2).wav\n",
      "Usecase_2_1_AI.wav\n",
      "1.4_Audio_AI.wav\n",
      "speech_20240213171731937.mp3\n",
      "1.1_Audio_AI.wav\n",
      "audio_file.wav\n",
      "bike_service.mp3\n",
      "Usecase1_1.wav\n",
      "audio_file (1).wav\n",
      "speech_20240213171944357.mp3\n",
      "Usecase_2_1_Human.wav\n",
      "1.3_Audio_HM.wav\n",
      "1.2_Audio_HM.wav\n"
     ]
    }
   ],
   "source": [
    "audio_file_path = '/kaggle/input/sample-hackathon-dataset/identity-personification/human_voice_train_data2'\n",
    "for fileName in os.listdir(audio_file_path):\n",
    "    print(fileName)\n",
    "    file_path = os.path.join(audio_file_path, fileName)\n",
    "    features = give_audio_feature(file_path)\n",
    "#     columns = [f'feature_{i}' for i in range(len(features))]\n",
    "    data.append(features)\n",
    "    label.append(1)\n",
    "\n",
    "audio_file_path = '/kaggle/input/sample-hackathon-dataset/identity-personification/synthetic-audio-train'\n",
    "for fileName in os.listdir(audio_file_path):\n",
    "    print(fileName)\n",
    "    file_path = os.path.join(audio_file_path, fileName)\n",
    "    features = give_audio_feature(file_path)\n",
    "    data.append(features)\n",
    "    label.append(0)"
   ]
  },
  {
   "cell_type": "code",
   "execution_count": 8,
   "id": "e78ac709",
   "metadata": {
    "execution": {
     "iopub.execute_input": "2024-03-18T07:50:17.524187Z",
     "iopub.status.busy": "2024-03-18T07:50:17.523665Z",
     "iopub.status.idle": "2024-03-18T07:57:20.785494Z",
     "shell.execute_reply": "2024-03-18T07:57:20.784274Z"
    },
    "papermill": {
     "duration": 423.287813,
     "end_time": "2024-03-18T07:57:20.788609",
     "exception": false,
     "start_time": "2024-03-18T07:50:17.500796",
     "status": "completed"
    },
    "tags": []
   },
   "outputs": [],
   "source": [
    "audio_file_path = '/kaggle/input/indian-accent-dataset/audio/audio/train'\n",
    "for sub_folder in os.listdir(audio_file_path)[:2500]:\n",
    "    for fileName in  os.listdir(os.path.join(audio_file_path,sub_folder)):\n",
    "        if(fileName == \"audio.mp3\"):\n",
    "            file_path = os.path.join(audio_file_path,sub_folder, fileName)\n",
    "            features = give_audio_feature(file_path)\n",
    "            data.append(features)\n",
    "            label.append(1)\n",
    "        else:\n",
    "            continue"
   ]
  },
  {
   "cell_type": "code",
   "execution_count": 9,
   "id": "877ece73",
   "metadata": {
    "execution": {
     "iopub.execute_input": "2024-03-18T07:57:20.834449Z",
     "iopub.status.busy": "2024-03-18T07:57:20.834035Z",
     "iopub.status.idle": "2024-03-18T07:57:20.841264Z",
     "shell.execute_reply": "2024-03-18T07:57:20.839923Z"
    },
    "papermill": {
     "duration": 0.032695,
     "end_time": "2024-03-18T07:57:20.843815",
     "exception": false,
     "start_time": "2024-03-18T07:57:20.811120",
     "status": "completed"
    },
    "tags": []
   },
   "outputs": [
    {
     "data": {
      "text/plain": [
       "2522"
      ]
     },
     "execution_count": 9,
     "metadata": {},
     "output_type": "execute_result"
    }
   ],
   "source": [
    "len(data)"
   ]
  },
  {
   "cell_type": "code",
   "execution_count": 10,
   "id": "29c40e22",
   "metadata": {
    "execution": {
     "iopub.execute_input": "2024-03-18T07:57:20.889961Z",
     "iopub.status.busy": "2024-03-18T07:57:20.889573Z",
     "iopub.status.idle": "2024-03-18T07:57:20.896717Z",
     "shell.execute_reply": "2024-03-18T07:57:20.895626Z"
    },
    "papermill": {
     "duration": 0.032955,
     "end_time": "2024-03-18T07:57:20.899215",
     "exception": false,
     "start_time": "2024-03-18T07:57:20.866260",
     "status": "completed"
    },
    "tags": []
   },
   "outputs": [
    {
     "data": {
      "text/plain": [
       "2522"
      ]
     },
     "execution_count": 10,
     "metadata": {},
     "output_type": "execute_result"
    }
   ],
   "source": [
    "len(label)"
   ]
  },
  {
   "cell_type": "code",
   "execution_count": 11,
   "id": "a5abf19a",
   "metadata": {
    "execution": {
     "iopub.execute_input": "2024-03-18T07:57:20.946160Z",
     "iopub.status.busy": "2024-03-18T07:57:20.945780Z",
     "iopub.status.idle": "2024-03-18T07:57:20.951585Z",
     "shell.execute_reply": "2024-03-18T07:57:20.950280Z"
    },
    "papermill": {
     "duration": 0.032147,
     "end_time": "2024-03-18T07:57:20.953952",
     "exception": false,
     "start_time": "2024-03-18T07:57:20.921805",
     "status": "completed"
    },
    "tags": []
   },
   "outputs": [],
   "source": [
    "columns = [f'feature_{i}' for i in range(len(data[0] - 1))]"
   ]
  },
  {
   "cell_type": "code",
   "execution_count": 12,
   "id": "daa20389",
   "metadata": {
    "execution": {
     "iopub.execute_input": "2024-03-18T07:57:21.000028Z",
     "iopub.status.busy": "2024-03-18T07:57:20.999645Z",
     "iopub.status.idle": "2024-03-18T07:57:21.007790Z",
     "shell.execute_reply": "2024-03-18T07:57:21.006492Z"
    },
    "papermill": {
     "duration": 0.03415,
     "end_time": "2024-03-18T07:57:21.010233",
     "exception": false,
     "start_time": "2024-03-18T07:57:20.976083",
     "status": "completed"
    },
    "tags": []
   },
   "outputs": [
    {
     "data": {
      "text/plain": [
       "['feature_0',\n",
       " 'feature_1',\n",
       " 'feature_2',\n",
       " 'feature_3',\n",
       " 'feature_4',\n",
       " 'feature_5',\n",
       " 'feature_6',\n",
       " 'feature_7',\n",
       " 'feature_8',\n",
       " 'feature_9',\n",
       " 'feature_10',\n",
       " 'feature_11',\n",
       " 'feature_12',\n",
       " 'feature_13',\n",
       " 'feature_14',\n",
       " 'feature_15',\n",
       " 'feature_16',\n",
       " 'feature_17',\n",
       " 'feature_18',\n",
       " 'feature_19',\n",
       " 'feature_20',\n",
       " 'feature_21',\n",
       " 'feature_22',\n",
       " 'feature_23',\n",
       " 'feature_24',\n",
       " 'feature_25',\n",
       " 'feature_26',\n",
       " 'feature_27',\n",
       " 'feature_28',\n",
       " 'feature_29',\n",
       " 'feature_30',\n",
       " 'feature_31',\n",
       " 'feature_32',\n",
       " 'feature_33',\n",
       " 'feature_34',\n",
       " 'feature_35',\n",
       " 'feature_36',\n",
       " 'feature_37',\n",
       " 'feature_38',\n",
       " 'feature_39',\n",
       " 'feature_40']"
      ]
     },
     "execution_count": 12,
     "metadata": {},
     "output_type": "execute_result"
    }
   ],
   "source": [
    "columns"
   ]
  },
  {
   "cell_type": "code",
   "execution_count": 13,
   "id": "8785522b",
   "metadata": {
    "execution": {
     "iopub.execute_input": "2024-03-18T07:57:21.057371Z",
     "iopub.status.busy": "2024-03-18T07:57:21.056954Z",
     "iopub.status.idle": "2024-03-18T07:57:21.118894Z",
     "shell.execute_reply": "2024-03-18T07:57:21.117718Z"
    },
    "papermill": {
     "duration": 0.088115,
     "end_time": "2024-03-18T07:57:21.121505",
     "exception": false,
     "start_time": "2024-03-18T07:57:21.033390",
     "status": "completed"
    },
    "tags": []
   },
   "outputs": [],
   "source": [
    "wf_df = pd.DataFrame(data, columns=columns)\n",
    "wf_df[\"label\"] = label"
   ]
  },
  {
   "cell_type": "code",
   "execution_count": 14,
   "id": "dab17300",
   "metadata": {
    "execution": {
     "iopub.execute_input": "2024-03-18T07:57:21.169621Z",
     "iopub.status.busy": "2024-03-18T07:57:21.169211Z",
     "iopub.status.idle": "2024-03-18T07:57:21.179840Z",
     "shell.execute_reply": "2024-03-18T07:57:21.178754Z"
    },
    "papermill": {
     "duration": 0.038088,
     "end_time": "2024-03-18T07:57:21.182428",
     "exception": false,
     "start_time": "2024-03-18T07:57:21.144340",
     "status": "completed"
    },
    "tags": []
   },
   "outputs": [],
   "source": [
    "result = pd.concat([fr_real_df, fr_fake_df,es_real_df,es_fake_df,en_fake_df, en_real_df,selected_rows,wf_df])\n",
    "# \n",
    "result.reset_index(drop=True, inplace=True)"
   ]
  },
  {
   "cell_type": "code",
   "execution_count": 15,
   "id": "6b475342",
   "metadata": {
    "execution": {
     "iopub.execute_input": "2024-03-18T07:57:21.228962Z",
     "iopub.status.busy": "2024-03-18T07:57:21.228569Z",
     "iopub.status.idle": "2024-03-18T07:57:21.271444Z",
     "shell.execute_reply": "2024-03-18T07:57:21.270269Z"
    },
    "papermill": {
     "duration": 0.069127,
     "end_time": "2024-03-18T07:57:21.273933",
     "exception": false,
     "start_time": "2024-03-18T07:57:21.204806",
     "status": "completed"
    },
    "tags": []
   },
   "outputs": [
    {
     "data": {
      "text/html": [
       "<div>\n",
       "<style scoped>\n",
       "    .dataframe tbody tr th:only-of-type {\n",
       "        vertical-align: middle;\n",
       "    }\n",
       "\n",
       "    .dataframe tbody tr th {\n",
       "        vertical-align: top;\n",
       "    }\n",
       "\n",
       "    .dataframe thead th {\n",
       "        text-align: right;\n",
       "    }\n",
       "</style>\n",
       "<table border=\"1\" class=\"dataframe\">\n",
       "  <thead>\n",
       "    <tr style=\"text-align: right;\">\n",
       "      <th></th>\n",
       "      <th>feature_0</th>\n",
       "      <th>feature_1</th>\n",
       "      <th>feature_2</th>\n",
       "      <th>feature_3</th>\n",
       "      <th>feature_4</th>\n",
       "      <th>feature_5</th>\n",
       "      <th>feature_6</th>\n",
       "      <th>feature_7</th>\n",
       "      <th>feature_8</th>\n",
       "      <th>feature_9</th>\n",
       "      <th>...</th>\n",
       "      <th>feature_32</th>\n",
       "      <th>feature_33</th>\n",
       "      <th>feature_34</th>\n",
       "      <th>feature_35</th>\n",
       "      <th>feature_36</th>\n",
       "      <th>feature_37</th>\n",
       "      <th>feature_38</th>\n",
       "      <th>feature_39</th>\n",
       "      <th>feature_40</th>\n",
       "      <th>label</th>\n",
       "    </tr>\n",
       "  </thead>\n",
       "  <tbody>\n",
       "    <tr>\n",
       "      <th>0</th>\n",
       "      <td>-450.714478</td>\n",
       "      <td>70.087486</td>\n",
       "      <td>4.518749</td>\n",
       "      <td>10.659202</td>\n",
       "      <td>-9.375365</td>\n",
       "      <td>-2.309233</td>\n",
       "      <td>-8.939342</td>\n",
       "      <td>-6.538586</td>\n",
       "      <td>-7.537154</td>\n",
       "      <td>-11.424809</td>\n",
       "      <td>...</td>\n",
       "      <td>52.967708</td>\n",
       "      <td>1991.353395</td>\n",
       "      <td>1730.656208</td>\n",
       "      <td>3486.129679</td>\n",
       "      <td>0.086376</td>\n",
       "      <td>1.235398e-06</td>\n",
       "      <td>0.052989</td>\n",
       "      <td>1.678841</td>\n",
       "      <td>30.820662</td>\n",
       "      <td>1</td>\n",
       "    </tr>\n",
       "    <tr>\n",
       "      <th>1</th>\n",
       "      <td>-922.492310</td>\n",
       "      <td>27.727495</td>\n",
       "      <td>0.572026</td>\n",
       "      <td>9.959911</td>\n",
       "      <td>8.020057</td>\n",
       "      <td>7.298525</td>\n",
       "      <td>4.426595</td>\n",
       "      <td>1.120921</td>\n",
       "      <td>-1.478471</td>\n",
       "      <td>-3.390396</td>\n",
       "      <td>...</td>\n",
       "      <td>50.011872</td>\n",
       "      <td>3980.367607</td>\n",
       "      <td>3190.133512</td>\n",
       "      <td>8362.836234</td>\n",
       "      <td>0.202995</td>\n",
       "      <td>-7.301205e-08</td>\n",
       "      <td>0.001993</td>\n",
       "      <td>20.219433</td>\n",
       "      <td>3723.678065</td>\n",
       "      <td>1</td>\n",
       "    </tr>\n",
       "    <tr>\n",
       "      <th>2</th>\n",
       "      <td>-383.286011</td>\n",
       "      <td>128.009720</td>\n",
       "      <td>-15.415681</td>\n",
       "      <td>25.498777</td>\n",
       "      <td>3.890359</td>\n",
       "      <td>-11.735601</td>\n",
       "      <td>-6.527705</td>\n",
       "      <td>-0.559523</td>\n",
       "      <td>-21.765081</td>\n",
       "      <td>-4.223959</td>\n",
       "      <td>...</td>\n",
       "      <td>50.631554</td>\n",
       "      <td>2236.701246</td>\n",
       "      <td>1976.512747</td>\n",
       "      <td>4115.625000</td>\n",
       "      <td>0.109456</td>\n",
       "      <td>4.938371e-06</td>\n",
       "      <td>0.052047</td>\n",
       "      <td>-1.163293</td>\n",
       "      <td>10.471566</td>\n",
       "      <td>1</td>\n",
       "    </tr>\n",
       "    <tr>\n",
       "      <th>3</th>\n",
       "      <td>-435.678040</td>\n",
       "      <td>67.816589</td>\n",
       "      <td>-5.076864</td>\n",
       "      <td>16.173975</td>\n",
       "      <td>5.201453</td>\n",
       "      <td>6.253832</td>\n",
       "      <td>5.369195</td>\n",
       "      <td>0.428587</td>\n",
       "      <td>-0.029432</td>\n",
       "      <td>-1.905453</td>\n",
       "      <td>...</td>\n",
       "      <td>45.808963</td>\n",
       "      <td>2093.966464</td>\n",
       "      <td>1816.368687</td>\n",
       "      <td>4041.656612</td>\n",
       "      <td>0.098690</td>\n",
       "      <td>5.798873e-05</td>\n",
       "      <td>0.078779</td>\n",
       "      <td>0.301033</td>\n",
       "      <td>10.233308</td>\n",
       "      <td>1</td>\n",
       "    </tr>\n",
       "    <tr>\n",
       "      <th>4</th>\n",
       "      <td>-466.569336</td>\n",
       "      <td>102.049965</td>\n",
       "      <td>37.489586</td>\n",
       "      <td>35.926704</td>\n",
       "      <td>10.178033</td>\n",
       "      <td>22.465988</td>\n",
       "      <td>4.036543</td>\n",
       "      <td>11.508827</td>\n",
       "      <td>-10.670527</td>\n",
       "      <td>3.458162</td>\n",
       "      <td>...</td>\n",
       "      <td>55.390966</td>\n",
       "      <td>2279.793611</td>\n",
       "      <td>2571.649785</td>\n",
       "      <td>4913.117733</td>\n",
       "      <td>0.081181</td>\n",
       "      <td>-1.326771e-05</td>\n",
       "      <td>0.039040</td>\n",
       "      <td>-0.278250</td>\n",
       "      <td>7.586750</td>\n",
       "      <td>1</td>\n",
       "    </tr>\n",
       "    <tr>\n",
       "      <th>...</th>\n",
       "      <td>...</td>\n",
       "      <td>...</td>\n",
       "      <td>...</td>\n",
       "      <td>...</td>\n",
       "      <td>...</td>\n",
       "      <td>...</td>\n",
       "      <td>...</td>\n",
       "      <td>...</td>\n",
       "      <td>...</td>\n",
       "      <td>...</td>\n",
       "      <td>...</td>\n",
       "      <td>...</td>\n",
       "      <td>...</td>\n",
       "      <td>...</td>\n",
       "      <td>...</td>\n",
       "      <td>...</td>\n",
       "      <td>...</td>\n",
       "      <td>...</td>\n",
       "      <td>...</td>\n",
       "      <td>...</td>\n",
       "      <td>...</td>\n",
       "    </tr>\n",
       "    <tr>\n",
       "      <th>45580</th>\n",
       "      <td>-326.386230</td>\n",
       "      <td>137.458496</td>\n",
       "      <td>20.732508</td>\n",
       "      <td>13.274103</td>\n",
       "      <td>24.624868</td>\n",
       "      <td>17.243828</td>\n",
       "      <td>5.717268</td>\n",
       "      <td>-3.148201</td>\n",
       "      <td>-0.622136</td>\n",
       "      <td>1.973588</td>\n",
       "      <td>...</td>\n",
       "      <td>49.634146</td>\n",
       "      <td>1362.692604</td>\n",
       "      <td>1949.237985</td>\n",
       "      <td>2875.483247</td>\n",
       "      <td>0.020902</td>\n",
       "      <td>3.950531e-04</td>\n",
       "      <td>0.096306</td>\n",
       "      <td>0.775607</td>\n",
       "      <td>24.042691</td>\n",
       "      <td>1</td>\n",
       "    </tr>\n",
       "    <tr>\n",
       "      <th>45581</th>\n",
       "      <td>-348.585297</td>\n",
       "      <td>151.008469</td>\n",
       "      <td>0.540818</td>\n",
       "      <td>0.218390</td>\n",
       "      <td>2.352572</td>\n",
       "      <td>-13.499284</td>\n",
       "      <td>7.126100</td>\n",
       "      <td>3.042956</td>\n",
       "      <td>-13.834743</td>\n",
       "      <td>-0.246142</td>\n",
       "      <td>...</td>\n",
       "      <td>39.460625</td>\n",
       "      <td>1155.314006</td>\n",
       "      <td>1125.736248</td>\n",
       "      <td>1957.981419</td>\n",
       "      <td>0.036082</td>\n",
       "      <td>1.923426e-04</td>\n",
       "      <td>0.177661</td>\n",
       "      <td>0.146320</td>\n",
       "      <td>6.035516</td>\n",
       "      <td>1</td>\n",
       "    </tr>\n",
       "    <tr>\n",
       "      <th>45582</th>\n",
       "      <td>-436.773773</td>\n",
       "      <td>61.568260</td>\n",
       "      <td>-4.759677</td>\n",
       "      <td>6.971491</td>\n",
       "      <td>7.128345</td>\n",
       "      <td>-4.990812</td>\n",
       "      <td>-1.891680</td>\n",
       "      <td>-4.450178</td>\n",
       "      <td>-2.441374</td>\n",
       "      <td>-3.193545</td>\n",
       "      <td>...</td>\n",
       "      <td>51.351044</td>\n",
       "      <td>2235.404357</td>\n",
       "      <td>1607.898434</td>\n",
       "      <td>3693.178354</td>\n",
       "      <td>0.079218</td>\n",
       "      <td>-8.664175e-05</td>\n",
       "      <td>0.088797</td>\n",
       "      <td>-0.396841</td>\n",
       "      <td>17.737344</td>\n",
       "      <td>1</td>\n",
       "    </tr>\n",
       "    <tr>\n",
       "      <th>45583</th>\n",
       "      <td>-386.787384</td>\n",
       "      <td>113.624184</td>\n",
       "      <td>14.205596</td>\n",
       "      <td>17.414669</td>\n",
       "      <td>4.261332</td>\n",
       "      <td>-15.756446</td>\n",
       "      <td>-4.169242</td>\n",
       "      <td>-9.933127</td>\n",
       "      <td>-15.311010</td>\n",
       "      <td>-8.518058</td>\n",
       "      <td>...</td>\n",
       "      <td>49.971376</td>\n",
       "      <td>1882.684886</td>\n",
       "      <td>1402.521019</td>\n",
       "      <td>3066.605548</td>\n",
       "      <td>0.067154</td>\n",
       "      <td>-3.217028e-05</td>\n",
       "      <td>0.141885</td>\n",
       "      <td>-0.556653</td>\n",
       "      <td>5.426490</td>\n",
       "      <td>1</td>\n",
       "    </tr>\n",
       "    <tr>\n",
       "      <th>45584</th>\n",
       "      <td>-455.232330</td>\n",
       "      <td>79.471184</td>\n",
       "      <td>16.765436</td>\n",
       "      <td>8.538197</td>\n",
       "      <td>15.941371</td>\n",
       "      <td>13.153705</td>\n",
       "      <td>3.331134</td>\n",
       "      <td>1.591344</td>\n",
       "      <td>1.145395</td>\n",
       "      <td>-1.155509</td>\n",
       "      <td>...</td>\n",
       "      <td>41.663885</td>\n",
       "      <td>1515.678194</td>\n",
       "      <td>1850.209376</td>\n",
       "      <td>2780.517578</td>\n",
       "      <td>0.037032</td>\n",
       "      <td>-1.447261e-04</td>\n",
       "      <td>0.096747</td>\n",
       "      <td>-0.008285</td>\n",
       "      <td>14.893465</td>\n",
       "      <td>1</td>\n",
       "    </tr>\n",
       "  </tbody>\n",
       "</table>\n",
       "<p>45585 rows × 42 columns</p>\n",
       "</div>"
      ],
      "text/plain": [
       "        feature_0   feature_1  feature_2  feature_3  feature_4  feature_5  \\\n",
       "0     -450.714478   70.087486   4.518749  10.659202  -9.375365  -2.309233   \n",
       "1     -922.492310   27.727495   0.572026   9.959911   8.020057   7.298525   \n",
       "2     -383.286011  128.009720 -15.415681  25.498777   3.890359 -11.735601   \n",
       "3     -435.678040   67.816589  -5.076864  16.173975   5.201453   6.253832   \n",
       "4     -466.569336  102.049965  37.489586  35.926704  10.178033  22.465988   \n",
       "...           ...         ...        ...        ...        ...        ...   \n",
       "45580 -326.386230  137.458496  20.732508  13.274103  24.624868  17.243828   \n",
       "45581 -348.585297  151.008469   0.540818   0.218390   2.352572 -13.499284   \n",
       "45582 -436.773773   61.568260  -4.759677   6.971491   7.128345  -4.990812   \n",
       "45583 -386.787384  113.624184  14.205596  17.414669   4.261332 -15.756446   \n",
       "45584 -455.232330   79.471184  16.765436   8.538197  15.941371  13.153705   \n",
       "\n",
       "       feature_6  feature_7  feature_8  feature_9  ...  feature_32  \\\n",
       "0      -8.939342  -6.538586  -7.537154 -11.424809  ...   52.967708   \n",
       "1       4.426595   1.120921  -1.478471  -3.390396  ...   50.011872   \n",
       "2      -6.527705  -0.559523 -21.765081  -4.223959  ...   50.631554   \n",
       "3       5.369195   0.428587  -0.029432  -1.905453  ...   45.808963   \n",
       "4       4.036543  11.508827 -10.670527   3.458162  ...   55.390966   \n",
       "...          ...        ...        ...        ...  ...         ...   \n",
       "45580   5.717268  -3.148201  -0.622136   1.973588  ...   49.634146   \n",
       "45581   7.126100   3.042956 -13.834743  -0.246142  ...   39.460625   \n",
       "45582  -1.891680  -4.450178  -2.441374  -3.193545  ...   51.351044   \n",
       "45583  -4.169242  -9.933127 -15.311010  -8.518058  ...   49.971376   \n",
       "45584   3.331134   1.591344   1.145395  -1.155509  ...   41.663885   \n",
       "\n",
       "        feature_33   feature_34   feature_35  feature_36    feature_37  \\\n",
       "0      1991.353395  1730.656208  3486.129679    0.086376  1.235398e-06   \n",
       "1      3980.367607  3190.133512  8362.836234    0.202995 -7.301205e-08   \n",
       "2      2236.701246  1976.512747  4115.625000    0.109456  4.938371e-06   \n",
       "3      2093.966464  1816.368687  4041.656612    0.098690  5.798873e-05   \n",
       "4      2279.793611  2571.649785  4913.117733    0.081181 -1.326771e-05   \n",
       "...            ...          ...          ...         ...           ...   \n",
       "45580  1362.692604  1949.237985  2875.483247    0.020902  3.950531e-04   \n",
       "45581  1155.314006  1125.736248  1957.981419    0.036082  1.923426e-04   \n",
       "45582  2235.404357  1607.898434  3693.178354    0.079218 -8.664175e-05   \n",
       "45583  1882.684886  1402.521019  3066.605548    0.067154 -3.217028e-05   \n",
       "45584  1515.678194  1850.209376  2780.517578    0.037032 -1.447261e-04   \n",
       "\n",
       "       feature_38  feature_39   feature_40  label  \n",
       "0        0.052989    1.678841    30.820662      1  \n",
       "1        0.001993   20.219433  3723.678065      1  \n",
       "2        0.052047   -1.163293    10.471566      1  \n",
       "3        0.078779    0.301033    10.233308      1  \n",
       "4        0.039040   -0.278250     7.586750      1  \n",
       "...           ...         ...          ...    ...  \n",
       "45580    0.096306    0.775607    24.042691      1  \n",
       "45581    0.177661    0.146320     6.035516      1  \n",
       "45582    0.088797   -0.396841    17.737344      1  \n",
       "45583    0.141885   -0.556653     5.426490      1  \n",
       "45584    0.096747   -0.008285    14.893465      1  \n",
       "\n",
       "[45585 rows x 42 columns]"
      ]
     },
     "execution_count": 15,
     "metadata": {},
     "output_type": "execute_result"
    }
   ],
   "source": [
    "result"
   ]
  },
  {
   "cell_type": "code",
   "execution_count": 16,
   "id": "55f61040",
   "metadata": {
    "execution": {
     "iopub.execute_input": "2024-03-18T07:57:21.323098Z",
     "iopub.status.busy": "2024-03-18T07:57:21.321986Z",
     "iopub.status.idle": "2024-03-18T07:57:21.329122Z",
     "shell.execute_reply": "2024-03-18T07:57:21.328147Z"
    },
    "papermill": {
     "duration": 0.034274,
     "end_time": "2024-03-18T07:57:21.331412",
     "exception": false,
     "start_time": "2024-03-18T07:57:21.297138",
     "status": "completed"
    },
    "tags": []
   },
   "outputs": [
    {
     "data": {
      "text/plain": [
       "(45585, 42)"
      ]
     },
     "execution_count": 16,
     "metadata": {},
     "output_type": "execute_result"
    }
   ],
   "source": [
    "result.shape"
   ]
  },
  {
   "cell_type": "code",
   "execution_count": null,
   "id": "a7527115",
   "metadata": {
    "papermill": {
     "duration": 0.023025,
     "end_time": "2024-03-18T07:57:21.377658",
     "exception": false,
     "start_time": "2024-03-18T07:57:21.354633",
     "status": "completed"
    },
    "tags": []
   },
   "outputs": [],
   "source": []
  },
  {
   "cell_type": "code",
   "execution_count": 17,
   "id": "b6856011",
   "metadata": {
    "execution": {
     "iopub.execute_input": "2024-03-18T07:57:21.426102Z",
     "iopub.status.busy": "2024-03-18T07:57:21.425329Z",
     "iopub.status.idle": "2024-03-18T07:57:21.440108Z",
     "shell.execute_reply": "2024-03-18T07:57:21.439046Z"
    },
    "papermill": {
     "duration": 0.041683,
     "end_time": "2024-03-18T07:57:21.442502",
     "exception": false,
     "start_time": "2024-03-18T07:57:21.400819",
     "status": "completed"
    },
    "tags": []
   },
   "outputs": [
    {
     "data": {
      "text/plain": [
       "label\n",
       "0    25582\n",
       "1    20003\n",
       "Name: count, dtype: int64"
      ]
     },
     "execution_count": 17,
     "metadata": {},
     "output_type": "execute_result"
    }
   ],
   "source": [
    "result.iloc[:,-1].value_counts()"
   ]
  },
  {
   "cell_type": "code",
   "execution_count": 18,
   "id": "d0f9468b",
   "metadata": {
    "execution": {
     "iopub.execute_input": "2024-03-18T07:57:21.553970Z",
     "iopub.status.busy": "2024-03-18T07:57:21.553174Z",
     "iopub.status.idle": "2024-03-18T07:57:21.574221Z",
     "shell.execute_reply": "2024-03-18T07:57:21.573310Z"
    },
    "papermill": {
     "duration": 0.048616,
     "end_time": "2024-03-18T07:57:21.576792",
     "exception": false,
     "start_time": "2024-03-18T07:57:21.528176",
     "status": "completed"
    },
    "tags": []
   },
   "outputs": [],
   "source": [
    "shuffled_df = result.sample(frac=1).reset_index(drop=True)"
   ]
  },
  {
   "cell_type": "code",
   "execution_count": 19,
   "id": "d0f63e1c",
   "metadata": {
    "execution": {
     "iopub.execute_input": "2024-03-18T07:57:21.625934Z",
     "iopub.status.busy": "2024-03-18T07:57:21.625527Z",
     "iopub.status.idle": "2024-03-18T07:57:21.632567Z",
     "shell.execute_reply": "2024-03-18T07:57:21.631409Z"
    },
    "papermill": {
     "duration": 0.034035,
     "end_time": "2024-03-18T07:57:21.634894",
     "exception": false,
     "start_time": "2024-03-18T07:57:21.600859",
     "status": "completed"
    },
    "tags": []
   },
   "outputs": [
    {
     "data": {
      "text/plain": [
       "(45585, 42)"
      ]
     },
     "execution_count": 19,
     "metadata": {},
     "output_type": "execute_result"
    }
   ],
   "source": [
    "shuffled_df.shape"
   ]
  },
  {
   "cell_type": "code",
   "execution_count": 20,
   "id": "736541ab",
   "metadata": {
    "execution": {
     "iopub.execute_input": "2024-03-18T07:57:21.684502Z",
     "iopub.status.busy": "2024-03-18T07:57:21.683772Z",
     "iopub.status.idle": "2024-03-18T07:57:21.699002Z",
     "shell.execute_reply": "2024-03-18T07:57:21.698003Z"
    },
    "papermill": {
     "duration": 0.042882,
     "end_time": "2024-03-18T07:57:21.701626",
     "exception": false,
     "start_time": "2024-03-18T07:57:21.658744",
     "status": "completed"
    },
    "tags": []
   },
   "outputs": [],
   "source": [
    "shuffled_df.dropna(inplace=True)"
   ]
  },
  {
   "cell_type": "code",
   "execution_count": 21,
   "id": "e1fbe49e",
   "metadata": {
    "execution": {
     "iopub.execute_input": "2024-03-18T07:57:21.751415Z",
     "iopub.status.busy": "2024-03-18T07:57:21.750635Z",
     "iopub.status.idle": "2024-03-18T07:57:21.756191Z",
     "shell.execute_reply": "2024-03-18T07:57:21.754547Z"
    },
    "papermill": {
     "duration": 0.033399,
     "end_time": "2024-03-18T07:57:21.758937",
     "exception": false,
     "start_time": "2024-03-18T07:57:21.725538",
     "status": "completed"
    },
    "tags": []
   },
   "outputs": [],
   "source": [
    "# shuffled_df.info()"
   ]
  },
  {
   "cell_type": "code",
   "execution_count": 22,
   "id": "952ed2e0",
   "metadata": {
    "execution": {
     "iopub.execute_input": "2024-03-18T07:57:21.808495Z",
     "iopub.status.busy": "2024-03-18T07:57:21.808078Z",
     "iopub.status.idle": "2024-03-18T07:57:21.816561Z",
     "shell.execute_reply": "2024-03-18T07:57:21.815608Z"
    },
    "papermill": {
     "duration": 0.036312,
     "end_time": "2024-03-18T07:57:21.819004",
     "exception": false,
     "start_time": "2024-03-18T07:57:21.782692",
     "status": "completed"
    },
    "tags": []
   },
   "outputs": [
    {
     "data": {
      "text/plain": [
       "label\n",
       "0    25582\n",
       "1    19980\n",
       "Name: count, dtype: int64"
      ]
     },
     "execution_count": 22,
     "metadata": {},
     "output_type": "execute_result"
    }
   ],
   "source": [
    "shuffled_df.iloc[:,-1].value_counts()"
   ]
  },
  {
   "cell_type": "code",
   "execution_count": 23,
   "id": "dad40e9b",
   "metadata": {
    "execution": {
     "iopub.execute_input": "2024-03-18T07:57:21.869256Z",
     "iopub.status.busy": "2024-03-18T07:57:21.868851Z",
     "iopub.status.idle": "2024-03-18T07:57:21.873274Z",
     "shell.execute_reply": "2024-03-18T07:57:21.872175Z"
    },
    "papermill": {
     "duration": 0.032747,
     "end_time": "2024-03-18T07:57:21.875848",
     "exception": false,
     "start_time": "2024-03-18T07:57:21.843101",
     "status": "completed"
    },
    "tags": []
   },
   "outputs": [],
   "source": [
    "# shuffled_df.interpolate(method='linear', inplace=True)"
   ]
  },
  {
   "cell_type": "code",
   "execution_count": 24,
   "id": "a01371c8",
   "metadata": {
    "execution": {
     "iopub.execute_input": "2024-03-18T07:57:21.925800Z",
     "iopub.status.busy": "2024-03-18T07:57:21.925429Z",
     "iopub.status.idle": "2024-03-18T07:57:22.254511Z",
     "shell.execute_reply": "2024-03-18T07:57:22.253342Z"
    },
    "papermill": {
     "duration": 0.357349,
     "end_time": "2024-03-18T07:57:22.257381",
     "exception": false,
     "start_time": "2024-03-18T07:57:21.900032",
     "status": "completed"
    },
    "tags": []
   },
   "outputs": [],
   "source": [
    "import seaborn as sns"
   ]
  },
  {
   "cell_type": "code",
   "execution_count": 25,
   "id": "a4018ffd",
   "metadata": {
    "execution": {
     "iopub.execute_input": "2024-03-18T07:57:22.307847Z",
     "iopub.status.busy": "2024-03-18T07:57:22.307437Z",
     "iopub.status.idle": "2024-03-18T07:57:22.367571Z",
     "shell.execute_reply": "2024-03-18T07:57:22.366658Z"
    },
    "papermill": {
     "duration": 0.088176,
     "end_time": "2024-03-18T07:57:22.370138",
     "exception": false,
     "start_time": "2024-03-18T07:57:22.281962",
     "status": "completed"
    },
    "tags": []
   },
   "outputs": [
    {
     "name": "stdout",
     "output_type": "stream",
     "text": [
      "Z-Scores:\n"
     ]
    },
    {
     "data": {
      "text/html": [
       "<div>\n",
       "<style scoped>\n",
       "    .dataframe tbody tr th:only-of-type {\n",
       "        vertical-align: middle;\n",
       "    }\n",
       "\n",
       "    .dataframe tbody tr th {\n",
       "        vertical-align: top;\n",
       "    }\n",
       "\n",
       "    .dataframe thead th {\n",
       "        text-align: right;\n",
       "    }\n",
       "</style>\n",
       "<table border=\"1\" class=\"dataframe\">\n",
       "  <thead>\n",
       "    <tr style=\"text-align: right;\">\n",
       "      <th></th>\n",
       "      <th>feature_0</th>\n",
       "      <th>feature_1</th>\n",
       "      <th>feature_2</th>\n",
       "      <th>feature_3</th>\n",
       "      <th>feature_4</th>\n",
       "      <th>feature_5</th>\n",
       "      <th>feature_6</th>\n",
       "      <th>feature_7</th>\n",
       "      <th>feature_8</th>\n",
       "      <th>feature_9</th>\n",
       "      <th>...</th>\n",
       "      <th>feature_32</th>\n",
       "      <th>feature_33</th>\n",
       "      <th>feature_34</th>\n",
       "      <th>feature_35</th>\n",
       "      <th>feature_36</th>\n",
       "      <th>feature_37</th>\n",
       "      <th>feature_38</th>\n",
       "      <th>feature_39</th>\n",
       "      <th>feature_40</th>\n",
       "      <th>label</th>\n",
       "    </tr>\n",
       "  </thead>\n",
       "  <tbody>\n",
       "    <tr>\n",
       "      <th>0</th>\n",
       "      <td>-2.043726</td>\n",
       "      <td>-0.316197</td>\n",
       "      <td>0.429568</td>\n",
       "      <td>-0.502079</td>\n",
       "      <td>-0.261657</td>\n",
       "      <td>-0.200133</td>\n",
       "      <td>0.134760</td>\n",
       "      <td>-1.976449</td>\n",
       "      <td>0.286871</td>\n",
       "      <td>-0.246281</td>\n",
       "      <td>...</td>\n",
       "      <td>0.534887</td>\n",
       "      <td>-0.614578</td>\n",
       "      <td>-0.663080</td>\n",
       "      <td>-0.509815</td>\n",
       "      <td>-0.095638</td>\n",
       "      <td>0.787575</td>\n",
       "      <td>-2.076268</td>\n",
       "      <td>-0.750612</td>\n",
       "      <td>-0.022769</td>\n",
       "      <td>1.131527</td>\n",
       "    </tr>\n",
       "    <tr>\n",
       "      <th>1</th>\n",
       "      <td>-0.354695</td>\n",
       "      <td>-0.282667</td>\n",
       "      <td>-0.448722</td>\n",
       "      <td>-0.239141</td>\n",
       "      <td>0.549957</td>\n",
       "      <td>-0.737722</td>\n",
       "      <td>0.676021</td>\n",
       "      <td>-0.580994</td>\n",
       "      <td>0.063874</td>\n",
       "      <td>0.184348</td>\n",
       "      <td>...</td>\n",
       "      <td>0.907502</td>\n",
       "      <td>-0.141934</td>\n",
       "      <td>-0.574030</td>\n",
       "      <td>-0.223810</td>\n",
       "      <td>-0.444865</td>\n",
       "      <td>-0.411938</td>\n",
       "      <td>0.065224</td>\n",
       "      <td>-0.486938</td>\n",
       "      <td>-0.074166</td>\n",
       "      <td>-0.883742</td>\n",
       "    </tr>\n",
       "    <tr>\n",
       "      <th>2</th>\n",
       "      <td>1.147024</td>\n",
       "      <td>0.119562</td>\n",
       "      <td>-0.100476</td>\n",
       "      <td>0.799061</td>\n",
       "      <td>-0.113267</td>\n",
       "      <td>1.880975</td>\n",
       "      <td>-2.002616</td>\n",
       "      <td>1.066141</td>\n",
       "      <td>-2.430460</td>\n",
       "      <td>1.205008</td>\n",
       "      <td>...</td>\n",
       "      <td>0.945252</td>\n",
       "      <td>1.850249</td>\n",
       "      <td>0.891741</td>\n",
       "      <td>1.426107</td>\n",
       "      <td>0.538819</td>\n",
       "      <td>5.576953</td>\n",
       "      <td>0.911884</td>\n",
       "      <td>-0.464754</td>\n",
       "      <td>-0.097532</td>\n",
       "      <td>-0.883742</td>\n",
       "    </tr>\n",
       "    <tr>\n",
       "      <th>3</th>\n",
       "      <td>-0.533192</td>\n",
       "      <td>0.564008</td>\n",
       "      <td>0.429603</td>\n",
       "      <td>-0.611188</td>\n",
       "      <td>0.404479</td>\n",
       "      <td>-0.461882</td>\n",
       "      <td>0.463269</td>\n",
       "      <td>-0.445199</td>\n",
       "      <td>0.246231</td>\n",
       "      <td>-0.251246</td>\n",
       "      <td>...</td>\n",
       "      <td>0.639190</td>\n",
       "      <td>-0.651737</td>\n",
       "      <td>-0.989854</td>\n",
       "      <td>-0.873015</td>\n",
       "      <td>-0.455396</td>\n",
       "      <td>-0.802930</td>\n",
       "      <td>0.230789</td>\n",
       "      <td>-0.546503</td>\n",
       "      <td>-0.074845</td>\n",
       "      <td>-0.883742</td>\n",
       "    </tr>\n",
       "    <tr>\n",
       "      <th>4</th>\n",
       "      <td>0.610876</td>\n",
       "      <td>0.915407</td>\n",
       "      <td>0.158783</td>\n",
       "      <td>2.187012</td>\n",
       "      <td>0.417316</td>\n",
       "      <td>2.524530</td>\n",
       "      <td>-1.190880</td>\n",
       "      <td>-0.233582</td>\n",
       "      <td>0.233189</td>\n",
       "      <td>-1.989419</td>\n",
       "      <td>...</td>\n",
       "      <td>1.073863</td>\n",
       "      <td>0.338219</td>\n",
       "      <td>0.826871</td>\n",
       "      <td>0.464005</td>\n",
       "      <td>-0.624751</td>\n",
       "      <td>2.784030</td>\n",
       "      <td>-0.692550</td>\n",
       "      <td>-0.854325</td>\n",
       "      <td>-0.090215</td>\n",
       "      <td>-0.883742</td>\n",
       "    </tr>\n",
       "  </tbody>\n",
       "</table>\n",
       "<p>5 rows × 42 columns</p>\n",
       "</div>"
      ],
      "text/plain": [
       "   feature_0  feature_1  feature_2  feature_3  feature_4  feature_5  \\\n",
       "0  -2.043726  -0.316197   0.429568  -0.502079  -0.261657  -0.200133   \n",
       "1  -0.354695  -0.282667  -0.448722  -0.239141   0.549957  -0.737722   \n",
       "2   1.147024   0.119562  -0.100476   0.799061  -0.113267   1.880975   \n",
       "3  -0.533192   0.564008   0.429603  -0.611188   0.404479  -0.461882   \n",
       "4   0.610876   0.915407   0.158783   2.187012   0.417316   2.524530   \n",
       "\n",
       "   feature_6  feature_7  feature_8  feature_9  ...  feature_32  feature_33  \\\n",
       "0   0.134760  -1.976449   0.286871  -0.246281  ...    0.534887   -0.614578   \n",
       "1   0.676021  -0.580994   0.063874   0.184348  ...    0.907502   -0.141934   \n",
       "2  -2.002616   1.066141  -2.430460   1.205008  ...    0.945252    1.850249   \n",
       "3   0.463269  -0.445199   0.246231  -0.251246  ...    0.639190   -0.651737   \n",
       "4  -1.190880  -0.233582   0.233189  -1.989419  ...    1.073863    0.338219   \n",
       "\n",
       "   feature_34  feature_35  feature_36  feature_37  feature_38  feature_39  \\\n",
       "0   -0.663080   -0.509815   -0.095638    0.787575   -2.076268   -0.750612   \n",
       "1   -0.574030   -0.223810   -0.444865   -0.411938    0.065224   -0.486938   \n",
       "2    0.891741    1.426107    0.538819    5.576953    0.911884   -0.464754   \n",
       "3   -0.989854   -0.873015   -0.455396   -0.802930    0.230789   -0.546503   \n",
       "4    0.826871    0.464005   -0.624751    2.784030   -0.692550   -0.854325   \n",
       "\n",
       "   feature_40     label  \n",
       "0   -0.022769  1.131527  \n",
       "1   -0.074166 -0.883742  \n",
       "2   -0.097532 -0.883742  \n",
       "3   -0.074845 -0.883742  \n",
       "4   -0.090215 -0.883742  \n",
       "\n",
       "[5 rows x 42 columns]"
      ]
     },
     "execution_count": 25,
     "metadata": {},
     "output_type": "execute_result"
    }
   ],
   "source": [
    "means = shuffled_df.mean()\n",
    "stds = shuffled_df.std()\n",
    "\n",
    "# Calculate Z-score for each data point in the DataFrame\n",
    "z_scores_df = (shuffled_df - means) / stds\n",
    "z_scores_df = pd.DataFrame(z_scores_df)\n",
    "print(\"Z-Scores:\")\n",
    "z_scores_df.head()"
   ]
  },
  {
   "cell_type": "code",
   "execution_count": 26,
   "id": "b2a4d78f",
   "metadata": {
    "execution": {
     "iopub.execute_input": "2024-03-18T07:57:22.421261Z",
     "iopub.status.busy": "2024-03-18T07:57:22.420581Z",
     "iopub.status.idle": "2024-03-18T07:57:22.445522Z",
     "shell.execute_reply": "2024-03-18T07:57:22.443661Z"
    },
    "papermill": {
     "duration": 0.053275,
     "end_time": "2024-03-18T07:57:22.447954",
     "exception": false,
     "start_time": "2024-03-18T07:57:22.394679",
     "status": "completed"
    },
    "tags": []
   },
   "outputs": [
    {
     "name": "stdout",
     "output_type": "stream",
     "text": [
      "Columns with Z-score > 2 and their respective percentages:\n",
      "           Column Name  Percentage > 2\n",
      "feature_0    feature_0        0.109741\n",
      "feature_1    feature_1        1.503446\n",
      "feature_2    feature_2        2.293578\n",
      "feature_3    feature_3        1.558316\n",
      "feature_4    feature_4        5.030508\n",
      "feature_5    feature_5        3.538036\n",
      "feature_6    feature_6        5.149028\n",
      "feature_7    feature_7        2.385760\n",
      "feature_8    feature_8        1.301523\n",
      "feature_9    feature_9        3.298802\n",
      "feature_10  feature_10        2.633774\n",
      "feature_11  feature_11        3.439270\n",
      "feature_12  feature_12        2.708397\n",
      "feature_13  feature_13        0.660638\n",
      "feature_14  feature_14        0.215092\n",
      "feature_15  feature_15        0.974496\n",
      "feature_16  feature_16        0.926210\n",
      "feature_17  feature_17        2.712787\n",
      "feature_18  feature_18        2.938853\n",
      "feature_19  feature_19        2.387955\n",
      "feature_20  feature_20        3.491945\n",
      "feature_21  feature_21        3.799219\n",
      "feature_22  feature_22        3.180282\n",
      "feature_23  feature_23        2.802774\n",
      "feature_24  feature_24        2.695228\n",
      "feature_25  feature_25        2.925684\n",
      "feature_26  feature_26        0.877925\n",
      "feature_27  feature_27        2.886177\n",
      "feature_28  feature_28        1.086432\n",
      "feature_29  feature_29        2.069707\n",
      "feature_30  feature_30        2.028006\n",
      "feature_31  feature_31        4.071375\n",
      "feature_33  feature_33        3.096879\n",
      "feature_34  feature_34        6.312278\n",
      "feature_35  feature_35        3.217594\n",
      "feature_36  feature_36        3.632413\n",
      "feature_37  feature_37        1.224705\n",
      "feature_38  feature_38        2.750099\n",
      "feature_39  feature_39        1.810719\n",
      "feature_40  feature_40        0.258988\n"
     ]
    }
   ],
   "source": [
    "columns_with_z_score_gt_2 = z_scores_df.columns[z_scores_df.gt(2).any()]\n",
    "\n",
    "# Calculate percentage of data points in each column exceeding Z-score of 2\n",
    "percentages = (z_scores_df[columns_with_z_score_gt_2] > 2).mean() * 100\n",
    "\n",
    "# Combine column names and percentages into a DataFrame\n",
    "result_df = pd.DataFrame({'Column Name': columns_with_z_score_gt_2, 'Percentage > 2': percentages})\n",
    "\n",
    "print(\"Columns with Z-score > 2 and their respective percentages:\")\n",
    "print(result_df)"
   ]
  },
  {
   "cell_type": "code",
   "execution_count": 27,
   "id": "08c0fe8d",
   "metadata": {
    "execution": {
     "iopub.execute_input": "2024-03-18T07:57:22.499136Z",
     "iopub.status.busy": "2024-03-18T07:57:22.498765Z",
     "iopub.status.idle": "2024-03-18T07:57:22.502708Z",
     "shell.execute_reply": "2024-03-18T07:57:22.501710Z"
    },
    "papermill": {
     "duration": 0.032435,
     "end_time": "2024-03-18T07:57:22.505028",
     "exception": false,
     "start_time": "2024-03-18T07:57:22.472593",
     "status": "completed"
    },
    "tags": []
   },
   "outputs": [],
   "source": [
    "# sns.pairplot(shuffled_df)"
   ]
  },
  {
   "cell_type": "code",
   "execution_count": 28,
   "id": "c78cce01",
   "metadata": {
    "execution": {
     "iopub.execute_input": "2024-03-18T07:57:22.556618Z",
     "iopub.status.busy": "2024-03-18T07:57:22.556222Z",
     "iopub.status.idle": "2024-03-18T07:57:22.564458Z",
     "shell.execute_reply": "2024-03-18T07:57:22.563457Z"
    },
    "papermill": {
     "duration": 0.036486,
     "end_time": "2024-03-18T07:57:22.566722",
     "exception": false,
     "start_time": "2024-03-18T07:57:22.530236",
     "status": "completed"
    },
    "tags": []
   },
   "outputs": [],
   "source": [
    "X = shuffled_df.iloc[:,:-1]\n",
    "y = shuffled_df.iloc[:,-1]"
   ]
  },
  {
   "cell_type": "code",
   "execution_count": null,
   "id": "4a8a9336",
   "metadata": {
    "papermill": {
     "duration": 0.024767,
     "end_time": "2024-03-18T07:57:22.616757",
     "exception": false,
     "start_time": "2024-03-18T07:57:22.591990",
     "status": "completed"
    },
    "tags": []
   },
   "outputs": [],
   "source": []
  },
  {
   "cell_type": "code",
   "execution_count": 29,
   "id": "2d5a0fb5",
   "metadata": {
    "execution": {
     "iopub.execute_input": "2024-03-18T07:57:22.667761Z",
     "iopub.status.busy": "2024-03-18T07:57:22.667359Z",
     "iopub.status.idle": "2024-03-18T07:57:22.675606Z",
     "shell.execute_reply": "2024-03-18T07:57:22.674540Z"
    },
    "papermill": {
     "duration": 0.036516,
     "end_time": "2024-03-18T07:57:22.677973",
     "exception": false,
     "start_time": "2024-03-18T07:57:22.641457",
     "status": "completed"
    },
    "tags": []
   },
   "outputs": [
    {
     "data": {
      "text/plain": [
       "array([1, 0])"
      ]
     },
     "execution_count": 29,
     "metadata": {},
     "output_type": "execute_result"
    }
   ],
   "source": [
    "y.unique()"
   ]
  },
  {
   "cell_type": "code",
   "execution_count": 30,
   "id": "72d91cf7",
   "metadata": {
    "execution": {
     "iopub.execute_input": "2024-03-18T07:57:22.729589Z",
     "iopub.status.busy": "2024-03-18T07:57:22.729164Z",
     "iopub.status.idle": "2024-03-18T07:57:22.738473Z",
     "shell.execute_reply": "2024-03-18T07:57:22.737397Z"
    },
    "papermill": {
     "duration": 0.037763,
     "end_time": "2024-03-18T07:57:22.740681",
     "exception": false,
     "start_time": "2024-03-18T07:57:22.702918",
     "status": "completed"
    },
    "tags": []
   },
   "outputs": [],
   "source": [
    "from sklearn.metrics import accuracy_score, confusion_matrix, classification_report\n",
    "\n",
    "\n",
    "def print_score(clf, X_train, y_train, X_test, y_test, train=True):\n",
    "    if train:\n",
    "        pred = clf.predict(X_train)\n",
    "        clf_report = pd.DataFrame(classification_report(y_train, pred, output_dict=True))\n",
    "        print(\"Train Result:\\n================================================\")\n",
    "        print(f\"Accuracy Score: {accuracy_score(y_train, pred) * 100:.2f}%\")\n",
    "        print(\"_______________________________________________\")\n",
    "        print(f\"CLASSIFICATION REPORT:\\n{clf_report}\")\n",
    "        print(\"_______________________________________________\")\n",
    "        print(f\"Confusion Matrix: \\n {confusion_matrix(y_train, pred)}\\n\")\n",
    "        \n",
    "    elif train==False:\n",
    "        pred = clf.predict(X_test)\n",
    "        clf_report = pd.DataFrame(classification_report(y_test, pred, output_dict=True))\n",
    "        print(\"Test Result:\\n================================================\")        \n",
    "        print(f\"Accuracy Score: {accuracy_score(y_test, pred) * 100:.2f}%\")\n",
    "        print(\"_______________________________________________\")\n",
    "        print(f\"CLASSIFICATION REPORT:\\n{clf_report}\")\n",
    "        print(\"_______________________________________________\")\n",
    "        print(f\"Confusion Matrix: \\n {confusion_matrix(y_test, pred)}\\n\")"
   ]
  },
  {
   "cell_type": "code",
   "execution_count": 31,
   "id": "737cde31",
   "metadata": {
    "execution": {
     "iopub.execute_input": "2024-03-18T07:57:22.793541Z",
     "iopub.status.busy": "2024-03-18T07:57:22.793145Z",
     "iopub.status.idle": "2024-03-18T07:57:22.952872Z",
     "shell.execute_reply": "2024-03-18T07:57:22.951487Z"
    },
    "papermill": {
     "duration": 0.188242,
     "end_time": "2024-03-18T07:57:22.955432",
     "exception": false,
     "start_time": "2024-03-18T07:57:22.767190",
     "status": "completed"
    },
    "tags": []
   },
   "outputs": [
    {
     "name": "stdout",
     "output_type": "stream",
     "text": [
      "RandomForestClassifier(n_estimators=50, random_state=1)\n",
      "KFold splits: 5\n"
     ]
    }
   ],
   "source": [
    "from sklearn.ensemble import RandomForestClassifier\n",
    "model = RandomForestClassifier(n_estimators=50, random_state=1)\n",
    "\n",
    "from sklearn.model_selection import KFold\n",
    "kf = KFold(n_splits=5,shuffle=True,random_state=1)\n",
    "\n",
    "print(model)\n",
    "print(\"KFold splits: \" + str(kf.get_n_splits(X)))"
   ]
  },
  {
   "cell_type": "code",
   "execution_count": 32,
   "id": "c0f5eb6a",
   "metadata": {
    "execution": {
     "iopub.execute_input": "2024-03-18T07:57:23.007084Z",
     "iopub.status.busy": "2024-03-18T07:57:23.006684Z",
     "iopub.status.idle": "2024-03-18T07:57:23.117154Z",
     "shell.execute_reply": "2024-03-18T07:57:23.116268Z"
    },
    "papermill": {
     "duration": 0.139143,
     "end_time": "2024-03-18T07:57:23.119745",
     "exception": false,
     "start_time": "2024-03-18T07:57:22.980602",
     "status": "completed"
    },
    "tags": []
   },
   "outputs": [],
   "source": [
    "from sklearn.datasets import make_classification\n",
    "from sklearn.linear_model import LogisticRegression\n",
    "from sklearn.model_selection import train_test_split\n",
    "from sklearn.pipeline import make_pipeline\n",
    "from sklearn.preprocessing import StandardScaler"
   ]
  },
  {
   "cell_type": "code",
   "execution_count": 33,
   "id": "56142ade",
   "metadata": {
    "execution": {
     "iopub.execute_input": "2024-03-18T07:57:23.173801Z",
     "iopub.status.busy": "2024-03-18T07:57:23.173417Z",
     "iopub.status.idle": "2024-03-18T07:57:23.196831Z",
     "shell.execute_reply": "2024-03-18T07:57:23.195644Z"
    },
    "papermill": {
     "duration": 0.054154,
     "end_time": "2024-03-18T07:57:23.199546",
     "exception": false,
     "start_time": "2024-03-18T07:57:23.145392",
     "status": "completed"
    },
    "tags": []
   },
   "outputs": [],
   "source": [
    "import time\n",
    "import joblib\n",
    "import numpy as np\n",
    "from sklearn.model_selection import train_test_split\n",
    "\n",
    "from sklearn.metrics import accuracy_score, precision_score, recall_score, f1_score, matthews_corrcoef, roc_auc_score\n",
    "X_train, X_test, y_train, y_test = train_test_split(X, y, test_size=0.2, random_state=42)"
   ]
  },
  {
   "cell_type": "code",
   "execution_count": 34,
   "id": "557da678",
   "metadata": {
    "execution": {
     "iopub.execute_input": "2024-03-18T07:57:23.252470Z",
     "iopub.status.busy": "2024-03-18T07:57:23.252084Z",
     "iopub.status.idle": "2024-03-18T08:39:24.617453Z",
     "shell.execute_reply": "2024-03-18T08:39:24.616241Z"
    },
    "papermill": {
     "duration": 2521.420505,
     "end_time": "2024-03-18T08:39:24.645079",
     "exception": false,
     "start_time": "2024-03-18T07:57:23.224574",
     "status": "completed"
    },
    "tags": []
   },
   "outputs": [
    {
     "data": {
      "text/plain": [
       "['/kaggle/working/voice_classifier_model.joblib']"
      ]
     },
     "execution_count": 34,
     "metadata": {},
     "output_type": "execute_result"
    }
   ],
   "source": [
    "svm_model = SVC(kernel='linear',probability=True)\n",
    "svm_model.fit(X_train, y_train)\n",
    "joblib.dump(svm_model, '/kaggle/working/voice_classifier_model.joblib')"
   ]
  },
  {
   "cell_type": "code",
   "execution_count": 35,
   "id": "a21758cc",
   "metadata": {
    "execution": {
     "iopub.execute_input": "2024-03-18T08:39:24.698405Z",
     "iopub.status.busy": "2024-03-18T08:39:24.698005Z",
     "iopub.status.idle": "2024-03-18T08:39:24.708176Z",
     "shell.execute_reply": "2024-03-18T08:39:24.707072Z"
    },
    "papermill": {
     "duration": 0.040032,
     "end_time": "2024-03-18T08:39:24.710411",
     "exception": false,
     "start_time": "2024-03-18T08:39:24.670379",
     "status": "completed"
    },
    "tags": []
   },
   "outputs": [
    {
     "data": {
      "text/plain": [
       "['/kaggle/working/voice_classifier_model.joblib']"
      ]
     },
     "execution_count": 35,
     "metadata": {},
     "output_type": "execute_result"
    }
   ],
   "source": [
    "joblib.dump(svm_model, '/kaggle/working/voice_classifier_model.joblib')"
   ]
  },
  {
   "cell_type": "code",
   "execution_count": 36,
   "id": "89b65f19",
   "metadata": {
    "execution": {
     "iopub.execute_input": "2024-03-18T08:39:24.765002Z",
     "iopub.status.busy": "2024-03-18T08:39:24.764613Z",
     "iopub.status.idle": "2024-03-18T08:39:24.994968Z",
     "shell.execute_reply": "2024-03-18T08:39:24.993816Z"
    },
    "papermill": {
     "duration": 0.260324,
     "end_time": "2024-03-18T08:39:24.997930",
     "exception": false,
     "start_time": "2024-03-18T08:39:24.737606",
     "status": "completed"
    },
    "tags": []
   },
   "outputs": [
    {
     "name": "stdout",
     "output_type": "stream",
     "text": [
      "Test Result:\n",
      "================================================\n",
      "Accuracy Score: 99.31%\n",
      "_______________________________________________\n",
      "CLASSIFICATION REPORT:\n",
      "                     0            1  accuracy    macro avg  weighted avg\n",
      "precision     0.993295     0.992808  0.993087     0.993051      0.993086\n",
      "recall        0.994629     0.991026  0.993087     0.992827      0.993087\n",
      "f1-score      0.993961     0.991916  0.993087     0.992939      0.993086\n",
      "support    5213.000000  3900.000000  0.993087  9113.000000   9113.000000\n",
      "_______________________________________________\n",
      "Confusion Matrix: \n",
      " [[5185   28]\n",
      " [  35 3865]]\n",
      "\n"
     ]
    }
   ],
   "source": [
    "print_score(svm_model, X_train, y_train, X_test, y_test, train=False)\n"
   ]
  },
  {
   "cell_type": "code",
   "execution_count": 37,
   "id": "a067dd6a",
   "metadata": {
    "execution": {
     "iopub.execute_input": "2024-03-18T08:39:25.051410Z",
     "iopub.status.busy": "2024-03-18T08:39:25.051002Z",
     "iopub.status.idle": "2024-03-18T08:39:27.469895Z",
     "shell.execute_reply": "2024-03-18T08:39:27.468744Z"
    },
    "papermill": {
     "duration": 2.448855,
     "end_time": "2024-03-18T08:39:27.472644",
     "exception": false,
     "start_time": "2024-03-18T08:39:25.023789",
     "status": "completed"
    },
    "tags": []
   },
   "outputs": [
    {
     "name": "stdout",
     "output_type": "stream",
     "text": [
      "human_voice_Script3.mp3\n",
      "[1]\n",
      "human_voice_Script2.mp3\n",
      "[1]\n",
      "human_voice_Script6.mp3\n",
      "[1]\n",
      "100.0\n"
     ]
    }
   ],
   "source": [
    "audio_file_path = '/kaggle/input/sample-hackathon-dataset/identity-personification/human_voice_train_data2'\n",
    "correct = 0\n",
    "total = 0\n",
    "for fileName in os.listdir(audio_file_path):\n",
    "    print(fileName)\n",
    "    file_path = os.path.join(audio_file_path, fileName)\n",
    "    features = give_audio_feature(file_path)\n",
    "    columns = [f'feature_{i}' for i in range(len(features))]\n",
    "    data = [features]\n",
    "    df = pd.DataFrame(data, columns=columns)\n",
    "    y_pred= svm_model.predict(df)\n",
    "    print(y_pred) \n",
    "    total += 1\n",
    "    if y_pred[0] == 1:\n",
    "        correct += 1\n",
    "\n",
    "print((correct/total)*100)"
   ]
  },
  {
   "cell_type": "code",
   "execution_count": 38,
   "id": "45bc6d5d",
   "metadata": {
    "execution": {
     "iopub.execute_input": "2024-03-18T08:39:27.527569Z",
     "iopub.status.busy": "2024-03-18T08:39:27.526911Z",
     "iopub.status.idle": "2024-03-18T08:39:33.719863Z",
     "shell.execute_reply": "2024-03-18T08:39:33.718634Z"
    },
    "papermill": {
     "duration": 6.223356,
     "end_time": "2024-03-18T08:39:33.722424",
     "exception": false,
     "start_time": "2024-03-18T08:39:27.499068",
     "status": "completed"
    },
    "tags": []
   },
   "outputs": [
    {
     "name": "stdout",
     "output_type": "stream",
     "text": [
      "hospital_claims.mp3\n",
      "[0]\n",
      "insurance_brother.wav\n",
      "[0]\n",
      "audio_file (3).wav\n",
      "[1]\n",
      "Usecase1_2.wav\n",
      "[0]\n",
      "CancelCard.mp3\n",
      "[0]\n",
      "creditcard_bill.mp3\n",
      "[0]\n",
      "audio_file (2).wav\n",
      "[0]\n",
      "Usecase_2_1_AI.wav\n",
      "[0]\n",
      "1.4_Audio_AI.wav\n",
      "[0]\n",
      "speech_20240213171731937.mp3\n",
      "[0]\n",
      "1.1_Audio_AI.wav\n",
      "[1]\n",
      "audio_file.wav\n",
      "[1]\n",
      "bike_service.mp3\n",
      "[1]\n",
      "Usecase1_1.wav\n",
      "[1]\n",
      "audio_file (1).wav\n",
      "[1]\n",
      "speech_20240213171944357.mp3\n",
      "[0]\n",
      "Usecase_2_1_Human.wav\n",
      "[0]\n",
      "1.3_Audio_HM.wav\n",
      "[0]\n",
      "1.2_Audio_HM.wav\n",
      "[1]\n",
      "63.1578947368421\n"
     ]
    }
   ],
   "source": [
    "audio_file_path = '/kaggle/input/sample-hackathon-dataset/identity-personification/synthetic-audio-train'\n",
    "correct = 0\n",
    "total = 0\n",
    "for fileName in os.listdir(audio_file_path):\n",
    "    print(fileName)\n",
    "    file_path = os.path.join(audio_file_path, fileName)\n",
    "    features = give_audio_feature(file_path)\n",
    "    columns = [f'feature_{i}' for i in range(len(features))]\n",
    "    data = [features]\n",
    "    df = pd.DataFrame(data, columns=columns)\n",
    "    y_pred= svm_model.predict(df)\n",
    "    print(y_pred) \n",
    "    total += 1\n",
    "    if y_pred[0] == 0:\n",
    "        correct += 1\n",
    "\n",
    "print((correct/total)*100)"
   ]
  },
  {
   "cell_type": "code",
   "execution_count": 39,
   "id": "5ff2f19c",
   "metadata": {
    "execution": {
     "iopub.execute_input": "2024-03-18T08:39:33.780612Z",
     "iopub.status.busy": "2024-03-18T08:39:33.780152Z",
     "iopub.status.idle": "2024-03-18T08:39:38.721797Z",
     "shell.execute_reply": "2024-03-18T08:39:38.720580Z"
    },
    "papermill": {
     "duration": 4.974558,
     "end_time": "2024-03-18T08:39:38.724294",
     "exception": false,
     "start_time": "2024-03-18T08:39:33.749736",
     "status": "completed"
    },
    "tags": []
   },
   "outputs": [
    {
     "name": "stdout",
     "output_type": "stream",
     "text": [
      "LJ004-0143.wav:: AI Probability --> 11.228039027736921 ::  Human Probability --> 88.77196097226307 :: Prediction --> 1\n",
      "[1]\n",
      "LJ013-0153.wav:: AI Probability --> 99.89683621135879 ::  Human Probability --> 0.10316378864120451 :: Prediction --> 0\n",
      "[0]\n",
      "LJ008-0282.wav:: AI Probability --> 90.63192451730072 ::  Human Probability --> 9.368075482699277 :: Prediction --> 0\n",
      "[0]\n",
      "LJ048-0113.wav:: AI Probability --> 99.99422396909144 ::  Human Probability --> 0.005776030908568669 :: Prediction --> 0\n",
      "[0]\n",
      "LJ009-0166.wav:: AI Probability --> 26.730050932126037 ::  Human Probability --> 73.26994906787398 :: Prediction --> 1\n",
      "[1]\n",
      "LJ038-0035.wav:: AI Probability --> 99.71806784456516 ::  Human Probability --> 0.2819321554348471 :: Prediction --> 0\n",
      "[0]\n",
      "LJ031-0043.wav:: AI Probability --> 6.1996006917485365e-06 ::  Human Probability --> 99.99999380039931 :: Prediction --> 1\n",
      "[1]\n",
      "LJ038-0120.wav:: AI Probability --> 93.6987308843819 ::  Human Probability --> 6.301269115618097 :: Prediction --> 0\n",
      "[0]\n",
      "LJ011-0258.wav:: AI Probability --> 96.924704298995 ::  Human Probability --> 3.075295701005006 :: Prediction --> 0\n",
      "[0]\n",
      "LJ028-0409.wav:: AI Probability --> 89.5130562161581 ::  Human Probability --> 10.48694378384189 :: Prediction --> 0\n",
      "[0]\n",
      "LJ050-0125.wav:: AI Probability --> 99.37912428240779 ::  Human Probability --> 0.6208757175921955 :: Prediction --> 0\n",
      "[0]\n",
      "LJ028-0062.wav:: AI Probability --> 39.839816891877526 ::  Human Probability --> 60.16018310812247 :: Prediction --> 1\n",
      "[1]\n",
      "LJ011-0248.wav:: AI Probability --> 21.9452522941681 ::  Human Probability --> 78.0547477058319 :: Prediction --> 1\n",
      "[1]\n",
      "LJ021-0092.wav:: AI Probability --> 0.36034650956473735 ::  Human Probability --> 99.63965349043526 :: Prediction --> 1\n",
      "[1]\n",
      "LJ011-0087.wav:: AI Probability --> 37.883862739810084 ::  Human Probability --> 62.116137260189895 :: Prediction --> 1\n",
      "[1]\n",
      "LJ030-0155.wav:: AI Probability --> 93.6960430350847 ::  Human Probability --> 6.303956964915315 :: Prediction --> 0\n",
      "[0]\n",
      "LJ017-0154.wav:: AI Probability --> 49.25678704245684 ::  Human Probability --> 50.743212957543136 :: Prediction --> 1\n",
      "[1]\n",
      "LJ041-0180.wav:: AI Probability --> 99.91575682793598 ::  Human Probability --> 0.08424317206401803 :: Prediction --> 0\n",
      "[0]\n",
      "LJ025-0054.wav:: AI Probability --> 62.712345862386286 ::  Human Probability --> 37.287654137613714 :: Prediction --> 0\n",
      "[0]\n",
      "LJ009-0088.wav:: AI Probability --> 22.211512100409735 ::  Human Probability --> 77.78848789959028 :: Prediction --> 1\n",
      "[1]\n",
      "LJ016-0183.wav:: AI Probability --> 1.1215418954397032 ::  Human Probability --> 98.87845810456031 :: Prediction --> 1\n",
      "[1]\n",
      "LJ018-0025.wav:: AI Probability --> 92.16193098010012 ::  Human Probability --> 7.838069019899871 :: Prediction --> 0\n",
      "[0]\n",
      "LJ012-0013.wav:: AI Probability --> 99.02331140222638 ::  Human Probability --> 0.9766885977736197 :: Prediction --> 0\n",
      "[0]\n",
      "LJ018-0152.wav:: AI Probability --> 99.030207082121 ::  Human Probability --> 0.9697929178790022 :: Prediction --> 0\n",
      "[0]\n",
      "LJ009-0189.wav:: AI Probability --> 95.43018726906263 ::  Human Probability --> 4.569812730937361 :: Prediction --> 0\n",
      "[0]\n",
      "LJ037-0033.wav:: AI Probability --> 97.69009943206713 ::  Human Probability --> 2.3099005679328846 :: Prediction --> 0\n",
      "[0]\n",
      "LJ014-0059.wav:: AI Probability --> 94.03782827931069 ::  Human Probability --> 5.962171720689313 :: Prediction --> 0\n",
      "[0]\n",
      "LJ001-0116.wav:: AI Probability --> 93.04501042119824 ::  Human Probability --> 6.9549895788017775 :: Prediction --> 0\n",
      "[0]\n",
      "LJ028-0440.wav:: AI Probability --> 99.99623202347853 ::  Human Probability --> 0.003767976521472543 :: Prediction --> 0\n",
      "[0]\n",
      "LJ044-0177.wav:: AI Probability --> 99.46926590619395 ::  Human Probability --> 0.5307340938060613 :: Prediction --> 0\n",
      "[0]\n",
      "33.33333333333333\n"
     ]
    }
   ],
   "source": [
    "audio_file_path = '/kaggle/input/the-lj-speech-dataset/LJSpeech-1.1/wavs'\n",
    "correct = 0\n",
    "total = 0\n",
    "for fileName in os.listdir(audio_file_path)[:30]:\n",
    "    file_path = os.path.join(audio_file_path, fileName)\n",
    "    features = give_audio_feature(file_path)\n",
    "    columns = [f'feature_{i}' for i in range(len(features))]\n",
    "    data = [features]\n",
    "    df = pd.DataFrame(data, columns=columns)\n",
    "    y_pred= svm_model.predict(df)\n",
    "    y_prob = svm_model.predict_proba(df)\n",
    "    print(f'{fileName}:: AI Probability --> {y_prob[0][0]*100} ::  Human Probability --> {y_prob[0][1]*100} :: Prediction --> {y_pred[0]}')  \n",
    "    print(y_pred) \n",
    "    total += 1\n",
    "    if y_pred[0] == 1:\n",
    "        correct += 1\n",
    "\n",
    "print((correct/total)*100)"
   ]
  },
  {
   "cell_type": "code",
   "execution_count": 40,
   "id": "d67b976a",
   "metadata": {
    "execution": {
     "iopub.execute_input": "2024-03-18T08:39:38.786474Z",
     "iopub.status.busy": "2024-03-18T08:39:38.785865Z",
     "iopub.status.idle": "2024-03-18T08:40:51.399040Z",
     "shell.execute_reply": "2024-03-18T08:40:51.397671Z"
    },
    "papermill": {
     "duration": 72.677208,
     "end_time": "2024-03-18T08:40:51.430582",
     "exception": false,
     "start_time": "2024-03-18T08:39:38.753374",
     "status": "completed"
    },
    "tags": []
   },
   "outputs": [
    {
     "name": "stdout",
     "output_type": "stream",
     "text": [
      "Model trained in: 72.6 seconds.\n"
     ]
    }
   ],
   "source": [
    "acc_score = []\n",
    "prec_score = []\n",
    "rec_score = []\n",
    "f1s = []\n",
    "MCCs = []\n",
    "ROCareas = []\n",
    "\n",
    "start = time.time()\n",
    "for train_index , test_index in kf.split(X):\n",
    "    X_train , X_test = X.iloc[train_index,:],X.iloc[test_index,:]\n",
    "    y_train , y_test = y.iloc[train_index] , y.iloc[test_index]\n",
    "     \n",
    "    model.fit(X_train,y_train)\n",
    "    pred_values = model.predict(X_test)\n",
    "    joblib.dump(model, \"/kaggle/working/rfc2.joblib\")\n",
    "     \n",
    "    acc = accuracy_score(pred_values , y_test)\n",
    "    acc_score.append(acc)\n",
    "    \n",
    "    prec = precision_score(y_test , pred_values, average=\"binary\", pos_label=1)\n",
    "    prec_score.append(prec)\n",
    "    \n",
    "    rec = recall_score(y_test , pred_values, average=\"binary\", pos_label=1)\n",
    "    rec_score.append(rec)\n",
    "    \n",
    "    f1 = f1_score(y_test , pred_values, average=\"binary\", pos_label=1)\n",
    "    f1s.append(f1)\n",
    "    \n",
    "    mcc = matthews_corrcoef(y_test , pred_values)\n",
    "    MCCs.append(mcc)   \n",
    "    \n",
    "    roc = roc_auc_score(y_test , pred_values)\n",
    "    ROCareas.append(roc)\n",
    "    \n",
    "end = time.time()\n",
    "timeTaken = (end - start)\n",
    "print(\"Model trained in: \" + str( round(timeTaken, 2) ) + \" seconds.\")"
   ]
  },
  {
   "cell_type": "code",
   "execution_count": 41,
   "id": "5ac73860",
   "metadata": {
    "execution": {
     "iopub.execute_input": "2024-03-18T08:40:51.491381Z",
     "iopub.status.busy": "2024-03-18T08:40:51.490979Z",
     "iopub.status.idle": "2024-03-18T08:40:53.894378Z",
     "shell.execute_reply": "2024-03-18T08:40:53.892964Z"
    },
    "papermill": {
     "duration": 2.436902,
     "end_time": "2024-03-18T08:40:53.897240",
     "exception": false,
     "start_time": "2024-03-18T08:40:51.460338",
     "status": "completed"
    },
    "tags": []
   },
   "outputs": [
    {
     "name": "stdout",
     "output_type": "stream",
     "text": [
      "human_voice_Script3.mp3\n",
      "[1]\n",
      "human_voice_Script2.mp3\n",
      "[1]\n",
      "human_voice_Script6.mp3\n",
      "[1]\n",
      "100.0\n"
     ]
    }
   ],
   "source": [
    "audio_file_path = '/kaggle/input/sample-hackathon-dataset/identity-personification/human_voice_train_data2'\n",
    "correct = 0\n",
    "total = 0\n",
    "for fileName in os.listdir(audio_file_path):\n",
    "    print(fileName)\n",
    "    file_path = os.path.join(audio_file_path, fileName)\n",
    "    features = give_audio_feature(file_path)\n",
    "    columns = [f'feature_{i}' for i in range(len(features))]\n",
    "    data = [features]\n",
    "    df = pd.DataFrame(data, columns=columns)\n",
    "    y_pred= model.predict(df)\n",
    "    print(y_pred) \n",
    "    total += 1\n",
    "    if y_pred[0] == 1:\n",
    "        correct += 1\n",
    "\n",
    "print((correct/total)*100)"
   ]
  },
  {
   "cell_type": "code",
   "execution_count": 42,
   "id": "e2b562a5",
   "metadata": {
    "execution": {
     "iopub.execute_input": "2024-03-18T08:40:53.967983Z",
     "iopub.status.busy": "2024-03-18T08:40:53.967551Z",
     "iopub.status.idle": "2024-03-18T08:41:00.286409Z",
     "shell.execute_reply": "2024-03-18T08:41:00.284879Z"
    },
    "papermill": {
     "duration": 6.352725,
     "end_time": "2024-03-18T08:41:00.288931",
     "exception": false,
     "start_time": "2024-03-18T08:40:53.936206",
     "status": "completed"
    },
    "tags": []
   },
   "outputs": [
    {
     "name": "stdout",
     "output_type": "stream",
     "text": [
      "hospital_claims.mp3\n",
      "[0]\n",
      "insurance_brother.wav\n",
      "[0]\n",
      "audio_file (3).wav\n",
      "[0]\n",
      "Usecase1_2.wav\n",
      "[0]\n",
      "CancelCard.mp3\n",
      "[0]\n",
      "creditcard_bill.mp3\n",
      "[0]\n",
      "audio_file (2).wav\n",
      "[0]\n",
      "Usecase_2_1_AI.wav\n",
      "[1]\n",
      "1.4_Audio_AI.wav\n",
      "[0]\n",
      "speech_20240213171731937.mp3\n",
      "[0]\n",
      "1.1_Audio_AI.wav\n",
      "[0]\n",
      "audio_file.wav\n",
      "[0]\n",
      "bike_service.mp3\n",
      "[1]\n",
      "Usecase1_1.wav\n",
      "[1]\n",
      "audio_file (1).wav\n",
      "[0]\n",
      "speech_20240213171944357.mp3\n",
      "[0]\n",
      "Usecase_2_1_Human.wav\n",
      "[0]\n",
      "1.3_Audio_HM.wav\n",
      "[0]\n",
      "1.2_Audio_HM.wav\n",
      "[0]\n",
      "84.21052631578947\n"
     ]
    }
   ],
   "source": [
    "audio_file_path = '/kaggle/input/sample-hackathon-dataset/identity-personification/synthetic-audio-train'\n",
    "correct = 0\n",
    "total = 0\n",
    "for fileName in os.listdir(audio_file_path):\n",
    "    print(fileName)\n",
    "    file_path = os.path.join(audio_file_path, fileName)\n",
    "    features = give_audio_feature(file_path)\n",
    "    columns = [f'feature_{i}' for i in range(len(features))]\n",
    "    data = [features]\n",
    "    df = pd.DataFrame(data, columns=columns)\n",
    "    y_pred= model.predict(df)\n",
    "    print(y_pred) \n",
    "    total += 1\n",
    "    if y_pred[0] == 0:\n",
    "        correct += 1\n",
    "\n",
    "print((correct/total)*100)"
   ]
  },
  {
   "cell_type": "code",
   "execution_count": 43,
   "id": "ec74efe1",
   "metadata": {
    "execution": {
     "iopub.execute_input": "2024-03-18T08:41:00.353545Z",
     "iopub.status.busy": "2024-03-18T08:41:00.353077Z",
     "iopub.status.idle": "2024-03-18T09:39:59.284093Z",
     "shell.execute_reply": "2024-03-18T09:39:59.279913Z"
    },
    "papermill": {
     "duration": 3538.968059,
     "end_time": "2024-03-18T09:39:59.288348",
     "exception": false,
     "start_time": "2024-03-18T08:41:00.320289",
     "status": "completed"
    },
    "tags": []
   },
   "outputs": [
    {
     "name": "stdout",
     "output_type": "stream",
     "text": [
      "Fitting 5 folds for each of 1 candidates, totalling 5 fits\n",
      "Fitting 5 folds for each of 1 candidates, totalling 5 fits\n",
      "Fitting 5 folds for each of 1 candidates, totalling 5 fits\n",
      "Fitting 5 folds for each of 1 candidates, totalling 5 fits\n"
     ]
    },
    {
     "name": "stderr",
     "output_type": "stream",
     "text": [
      "/opt/conda/lib/python3.10/site-packages/sklearn/svm/_base.py:1244: ConvergenceWarning: Liblinear failed to converge, increase the number of iterations.\n",
      "  warnings.warn(\n",
      "/opt/conda/lib/python3.10/site-packages/sklearn/svm/_base.py:1244: ConvergenceWarning: Liblinear failed to converge, increase the number of iterations.\n",
      "  warnings.warn(\n",
      "/opt/conda/lib/python3.10/site-packages/sklearn/svm/_base.py:1244: ConvergenceWarning: Liblinear failed to converge, increase the number of iterations.\n",
      "  warnings.warn(\n",
      "/opt/conda/lib/python3.10/site-packages/sklearn/svm/_base.py:1244: ConvergenceWarning: Liblinear failed to converge, increase the number of iterations.\n",
      "  warnings.warn(\n",
      "/opt/conda/lib/python3.10/site-packages/sklearn/svm/_base.py:1244: ConvergenceWarning: Liblinear failed to converge, increase the number of iterations.\n",
      "  warnings.warn(\n"
     ]
    },
    {
     "name": "stdout",
     "output_type": "stream",
     "text": [
      "Fitting 5 folds for each of 1 candidates, totalling 5 fits\n"
     ]
    },
    {
     "name": "stderr",
     "output_type": "stream",
     "text": [
      "/opt/conda/lib/python3.10/site-packages/sklearn/svm/_base.py:1244: ConvergenceWarning: Liblinear failed to converge, increase the number of iterations.\n",
      "  warnings.warn(\n",
      "/opt/conda/lib/python3.10/site-packages/sklearn/svm/_base.py:1244: ConvergenceWarning: Liblinear failed to converge, increase the number of iterations.\n",
      "  warnings.warn(\n",
      "/opt/conda/lib/python3.10/site-packages/sklearn/svm/_base.py:1244: ConvergenceWarning: Liblinear failed to converge, increase the number of iterations.\n",
      "  warnings.warn(\n",
      "/opt/conda/lib/python3.10/site-packages/sklearn/svm/_base.py:1244: ConvergenceWarning: Liblinear failed to converge, increase the number of iterations.\n",
      "  warnings.warn(\n",
      "/opt/conda/lib/python3.10/site-packages/sklearn/svm/_base.py:1244: ConvergenceWarning: Liblinear failed to converge, increase the number of iterations.\n",
      "  warnings.warn(\n"
     ]
    },
    {
     "name": "stdout",
     "output_type": "stream",
     "text": [
      "Fitting 5 folds for each of 1 candidates, totalling 5 fits\n",
      "Fitting 5 folds for each of 1 candidates, totalling 5 fits\n",
      "Fitting 5 folds for each of 1 candidates, totalling 5 fits\n",
      "Fitting 5 folds for each of 1 candidates, totalling 5 fits\n",
      "Fitting 5 folds for each of 1 candidates, totalling 5 fits\n",
      "Fitting 5 folds for each of 1 candidates, totalling 5 fits\n",
      "Fitting 5 folds for each of 1 candidates, totalling 5 fits\n",
      "Fitting 5 folds for each of 1 candidates, totalling 5 fits\n",
      "Fitting 5 folds for each of 1 candidates, totalling 5 fits\n",
      "Fitting 5 folds for each of 1 candidates, totalling 5 fits\n",
      "Fitting 5 folds for each of 1 candidates, totalling 5 fits\n",
      "Fitting 5 folds for each of 1 candidates, totalling 5 fits\n",
      "Fitting 5 folds for each of 1 candidates, totalling 5 fits\n",
      "Fitting 5 folds for each of 1 candidates, totalling 5 fits\n",
      "Fitting 5 folds for each of 1 candidates, totalling 5 fits\n",
      "Fitting 5 folds for each of 1 candidates, totalling 5 fits\n",
      "Fitting 5 folds for each of 1 candidates, totalling 5 fits\n"
     ]
    },
    {
     "name": "stderr",
     "output_type": "stream",
     "text": [
      "/opt/conda/lib/python3.10/site-packages/sklearn/svm/_base.py:1244: ConvergenceWarning: Liblinear failed to converge, increase the number of iterations.\n",
      "  warnings.warn(\n",
      "/opt/conda/lib/python3.10/site-packages/sklearn/svm/_base.py:1244: ConvergenceWarning: Liblinear failed to converge, increase the number of iterations.\n",
      "  warnings.warn(\n",
      "/opt/conda/lib/python3.10/site-packages/sklearn/svm/_base.py:1244: ConvergenceWarning: Liblinear failed to converge, increase the number of iterations.\n",
      "  warnings.warn(\n",
      "/opt/conda/lib/python3.10/site-packages/sklearn/svm/_base.py:1244: ConvergenceWarning: Liblinear failed to converge, increase the number of iterations.\n",
      "  warnings.warn(\n",
      "/opt/conda/lib/python3.10/site-packages/sklearn/svm/_base.py:1244: ConvergenceWarning: Liblinear failed to converge, increase the number of iterations.\n",
      "  warnings.warn(\n"
     ]
    },
    {
     "name": "stdout",
     "output_type": "stream",
     "text": [
      "Fitting 5 folds for each of 1 candidates, totalling 5 fits\n"
     ]
    },
    {
     "name": "stderr",
     "output_type": "stream",
     "text": [
      "/opt/conda/lib/python3.10/site-packages/sklearn/svm/_base.py:1244: ConvergenceWarning: Liblinear failed to converge, increase the number of iterations.\n",
      "  warnings.warn(\n",
      "/opt/conda/lib/python3.10/site-packages/sklearn/svm/_base.py:1244: ConvergenceWarning: Liblinear failed to converge, increase the number of iterations.\n",
      "  warnings.warn(\n",
      "/opt/conda/lib/python3.10/site-packages/sklearn/svm/_base.py:1244: ConvergenceWarning: Liblinear failed to converge, increase the number of iterations.\n",
      "  warnings.warn(\n",
      "/opt/conda/lib/python3.10/site-packages/sklearn/svm/_base.py:1244: ConvergenceWarning: Liblinear failed to converge, increase the number of iterations.\n",
      "  warnings.warn(\n",
      "/opt/conda/lib/python3.10/site-packages/sklearn/svm/_base.py:1244: ConvergenceWarning: Liblinear failed to converge, increase the number of iterations.\n",
      "  warnings.warn(\n",
      "/opt/conda/lib/python3.10/site-packages/skopt/optimizer/optimizer.py:449: UserWarning: The objective has been evaluated at this point before.\n",
      "  warnings.warn(\"The objective has been evaluated \"\n"
     ]
    },
    {
     "name": "stdout",
     "output_type": "stream",
     "text": [
      "Fitting 5 folds for each of 1 candidates, totalling 5 fits\n"
     ]
    },
    {
     "name": "stderr",
     "output_type": "stream",
     "text": [
      "/opt/conda/lib/python3.10/site-packages/skopt/optimizer/optimizer.py:449: UserWarning: The objective has been evaluated at this point before.\n",
      "  warnings.warn(\"The objective has been evaluated \"\n"
     ]
    },
    {
     "name": "stdout",
     "output_type": "stream",
     "text": [
      "Fitting 5 folds for each of 1 candidates, totalling 5 fits\n",
      "Fitting 5 folds for each of 1 candidates, totalling 5 fits\n",
      "Fitting 5 folds for each of 1 candidates, totalling 5 fits\n",
      "Fitting 5 folds for each of 1 candidates, totalling 5 fits\n",
      "Fitting 5 folds for each of 1 candidates, totalling 5 fits\n",
      "Fitting 5 folds for each of 1 candidates, totalling 5 fits\n",
      "Fitting 5 folds for each of 1 candidates, totalling 5 fits\n"
     ]
    },
    {
     "name": "stderr",
     "output_type": "stream",
     "text": [
      "/opt/conda/lib/python3.10/site-packages/sklearn/svm/_base.py:1244: ConvergenceWarning: Liblinear failed to converge, increase the number of iterations.\n",
      "  warnings.warn(\n",
      "/opt/conda/lib/python3.10/site-packages/sklearn/svm/_base.py:1244: ConvergenceWarning: Liblinear failed to converge, increase the number of iterations.\n",
      "  warnings.warn(\n",
      "/opt/conda/lib/python3.10/site-packages/sklearn/svm/_base.py:1244: ConvergenceWarning: Liblinear failed to converge, increase the number of iterations.\n",
      "  warnings.warn(\n",
      "/opt/conda/lib/python3.10/site-packages/sklearn/svm/_base.py:1244: ConvergenceWarning: Liblinear failed to converge, increase the number of iterations.\n",
      "  warnings.warn(\n",
      "/opt/conda/lib/python3.10/site-packages/sklearn/svm/_base.py:1244: ConvergenceWarning: Liblinear failed to converge, increase the number of iterations.\n",
      "  warnings.warn(\n"
     ]
    },
    {
     "name": "stdout",
     "output_type": "stream",
     "text": [
      "Fitting 5 folds for each of 1 candidates, totalling 5 fits\n",
      "Fitting 5 folds for each of 1 candidates, totalling 5 fits\n",
      "Fitting 5 folds for each of 1 candidates, totalling 5 fits\n",
      "Fitting 5 folds for each of 1 candidates, totalling 5 fits\n",
      "Fitting 5 folds for each of 1 candidates, totalling 5 fits\n",
      "Fitting 5 folds for each of 1 candidates, totalling 5 fits\n",
      "Fitting 5 folds for each of 1 candidates, totalling 5 fits\n",
      "Fitting 5 folds for each of 1 candidates, totalling 5 fits\n"
     ]
    },
    {
     "name": "stderr",
     "output_type": "stream",
     "text": [
      "/opt/conda/lib/python3.10/site-packages/sklearn/svm/_base.py:1244: ConvergenceWarning: Liblinear failed to converge, increase the number of iterations.\n",
      "  warnings.warn(\n",
      "/opt/conda/lib/python3.10/site-packages/sklearn/svm/_base.py:1244: ConvergenceWarning: Liblinear failed to converge, increase the number of iterations.\n",
      "  warnings.warn(\n",
      "/opt/conda/lib/python3.10/site-packages/sklearn/svm/_base.py:1244: ConvergenceWarning: Liblinear failed to converge, increase the number of iterations.\n",
      "  warnings.warn(\n",
      "/opt/conda/lib/python3.10/site-packages/sklearn/svm/_base.py:1244: ConvergenceWarning: Liblinear failed to converge, increase the number of iterations.\n",
      "  warnings.warn(\n",
      "/opt/conda/lib/python3.10/site-packages/sklearn/svm/_base.py:1244: ConvergenceWarning: Liblinear failed to converge, increase the number of iterations.\n",
      "  warnings.warn(\n"
     ]
    },
    {
     "name": "stdout",
     "output_type": "stream",
     "text": [
      "Fitting 5 folds for each of 1 candidates, totalling 5 fits\n"
     ]
    },
    {
     "name": "stderr",
     "output_type": "stream",
     "text": [
      "/opt/conda/lib/python3.10/site-packages/sklearn/svm/_base.py:1244: ConvergenceWarning: Liblinear failed to converge, increase the number of iterations.\n",
      "  warnings.warn(\n",
      "/opt/conda/lib/python3.10/site-packages/sklearn/svm/_base.py:1244: ConvergenceWarning: Liblinear failed to converge, increase the number of iterations.\n",
      "  warnings.warn(\n",
      "/opt/conda/lib/python3.10/site-packages/sklearn/svm/_base.py:1244: ConvergenceWarning: Liblinear failed to converge, increase the number of iterations.\n",
      "  warnings.warn(\n",
      "/opt/conda/lib/python3.10/site-packages/sklearn/svm/_base.py:1244: ConvergenceWarning: Liblinear failed to converge, increase the number of iterations.\n",
      "  warnings.warn(\n",
      "/opt/conda/lib/python3.10/site-packages/sklearn/svm/_base.py:1244: ConvergenceWarning: Liblinear failed to converge, increase the number of iterations.\n",
      "  warnings.warn(\n"
     ]
    },
    {
     "name": "stdout",
     "output_type": "stream",
     "text": [
      "Fitting 5 folds for each of 1 candidates, totalling 5 fits\n",
      "Fitting 5 folds for each of 1 candidates, totalling 5 fits\n"
     ]
    },
    {
     "name": "stderr",
     "output_type": "stream",
     "text": [
      "/opt/conda/lib/python3.10/site-packages/sklearn/svm/_base.py:1244: ConvergenceWarning: Liblinear failed to converge, increase the number of iterations.\n",
      "  warnings.warn(\n",
      "/opt/conda/lib/python3.10/site-packages/sklearn/svm/_base.py:1244: ConvergenceWarning: Liblinear failed to converge, increase the number of iterations.\n",
      "  warnings.warn(\n",
      "/opt/conda/lib/python3.10/site-packages/sklearn/svm/_base.py:1244: ConvergenceWarning: Liblinear failed to converge, increase the number of iterations.\n",
      "  warnings.warn(\n",
      "/opt/conda/lib/python3.10/site-packages/sklearn/svm/_base.py:1244: ConvergenceWarning: Liblinear failed to converge, increase the number of iterations.\n",
      "  warnings.warn(\n",
      "/opt/conda/lib/python3.10/site-packages/sklearn/svm/_base.py:1244: ConvergenceWarning: Liblinear failed to converge, increase the number of iterations.\n",
      "  warnings.warn(\n"
     ]
    },
    {
     "name": "stdout",
     "output_type": "stream",
     "text": [
      "Fitting 5 folds for each of 1 candidates, totalling 5 fits\n",
      "Fitting 5 folds for each of 1 candidates, totalling 5 fits\n"
     ]
    },
    {
     "name": "stderr",
     "output_type": "stream",
     "text": [
      "/opt/conda/lib/python3.10/site-packages/sklearn/svm/_base.py:1244: ConvergenceWarning: Liblinear failed to converge, increase the number of iterations.\n",
      "  warnings.warn(\n",
      "/opt/conda/lib/python3.10/site-packages/sklearn/svm/_base.py:1244: ConvergenceWarning: Liblinear failed to converge, increase the number of iterations.\n",
      "  warnings.warn(\n",
      "/opt/conda/lib/python3.10/site-packages/sklearn/svm/_base.py:1244: ConvergenceWarning: Liblinear failed to converge, increase the number of iterations.\n",
      "  warnings.warn(\n",
      "/opt/conda/lib/python3.10/site-packages/sklearn/svm/_base.py:1244: ConvergenceWarning: Liblinear failed to converge, increase the number of iterations.\n",
      "  warnings.warn(\n",
      "/opt/conda/lib/python3.10/site-packages/sklearn/svm/_base.py:1244: ConvergenceWarning: Liblinear failed to converge, increase the number of iterations.\n",
      "  warnings.warn(\n"
     ]
    },
    {
     "name": "stdout",
     "output_type": "stream",
     "text": [
      "Fitting 5 folds for each of 1 candidates, totalling 5 fits\n",
      "Fitting 5 folds for each of 1 candidates, totalling 5 fits\n",
      "Fitting 5 folds for each of 1 candidates, totalling 5 fits\n",
      "Fitting 5 folds for each of 1 candidates, totalling 5 fits\n"
     ]
    },
    {
     "name": "stderr",
     "output_type": "stream",
     "text": [
      "/opt/conda/lib/python3.10/site-packages/sklearn/svm/_base.py:1244: ConvergenceWarning: Liblinear failed to converge, increase the number of iterations.\n",
      "  warnings.warn(\n",
      "/opt/conda/lib/python3.10/site-packages/sklearn/svm/_base.py:1244: ConvergenceWarning: Liblinear failed to converge, increase the number of iterations.\n",
      "  warnings.warn(\n",
      "/opt/conda/lib/python3.10/site-packages/sklearn/svm/_base.py:1244: ConvergenceWarning: Liblinear failed to converge, increase the number of iterations.\n",
      "  warnings.warn(\n",
      "/opt/conda/lib/python3.10/site-packages/sklearn/svm/_base.py:1244: ConvergenceWarning: Liblinear failed to converge, increase the number of iterations.\n",
      "  warnings.warn(\n",
      "/opt/conda/lib/python3.10/site-packages/sklearn/svm/_base.py:1244: ConvergenceWarning: Liblinear failed to converge, increase the number of iterations.\n",
      "  warnings.warn(\n",
      "/opt/conda/lib/python3.10/site-packages/skopt/optimizer/optimizer.py:449: UserWarning: The objective has been evaluated at this point before.\n",
      "  warnings.warn(\"The objective has been evaluated \"\n"
     ]
    },
    {
     "name": "stdout",
     "output_type": "stream",
     "text": [
      "Fitting 5 folds for each of 1 candidates, totalling 5 fits\n",
      "Fitting 5 folds for each of 1 candidates, totalling 5 fits\n",
      "Best hyperparameters: OrderedDict([('C', 10.0), ('penalty', 'l2')])\n",
      "Test score (accuracy): 0.9911106233538192\n"
     ]
    }
   ],
   "source": [
    "from skopt import BayesSearchCV\n",
    "logistic_regression = LogisticRegression(solver=\"liblinear\")\n",
    "\n",
    "# Define the hyperparameter search space\n",
    "param_space = {\n",
    "    'C': (0.01, 10.0, 'log-uniform'),\n",
    "    'penalty': ['l1', 'l2']\n",
    "}\n",
    "\n",
    "# Define the Bayesian optimization search\n",
    "bayes_search = BayesSearchCV(\n",
    "    estimator=logistic_regression,\n",
    "    search_spaces=param_space,\n",
    "    n_iter=50,  # Number of parameter settings that are sampled\n",
    "    cv=5,       # 5-fold cross-validation\n",
    "    n_jobs=-1,  # Use all available CPU cores\n",
    "    verbose=1,\n",
    "    random_state=42\n",
    ")\n",
    "\n",
    "np.int = np.int32\n",
    "np.float = np.float64\n",
    "# Perform Bayesian optimization\n",
    "bayes_search.fit(X_train, y_train)\n",
    "\n",
    "# Print the best hyperparameters found\n",
    "print(\"Best hyperparameters:\", bayes_search.best_params_)\n",
    "\n",
    "# Evaluate the best model on the test set\n",
    "test_score = bayes_search.score(X_test, y_test)\n",
    "print(\"Test score (accuracy):\", test_score)"
   ]
  },
  {
   "cell_type": "markdown",
   "id": "44eed296",
   "metadata": {
    "papermill": {
     "duration": 0.049423,
     "end_time": "2024-03-18T09:39:59.428236",
     "exception": false,
     "start_time": "2024-03-18T09:39:59.378813",
     "status": "completed"
    },
    "tags": []
   },
   "source": [
    "Best hyperparameters: OrderedDict([('C', 10.0), ('penalty', 'l2')])"
   ]
  },
  {
   "cell_type": "code",
   "execution_count": 44,
   "id": "7c64329f",
   "metadata": {
    "execution": {
     "iopub.execute_input": "2024-03-18T09:39:59.512832Z",
     "iopub.status.busy": "2024-03-18T09:39:59.512423Z",
     "iopub.status.idle": "2024-03-18T09:39:59.586808Z",
     "shell.execute_reply": "2024-03-18T09:39:59.585663Z"
    },
    "papermill": {
     "duration": 0.12169,
     "end_time": "2024-03-18T09:39:59.591093",
     "exception": false,
     "start_time": "2024-03-18T09:39:59.469403",
     "status": "completed"
    },
    "tags": []
   },
   "outputs": [
    {
     "name": "stdout",
     "output_type": "stream",
     "text": [
      "Test Result:\n",
      "================================================\n",
      "Accuracy Score: 99.11%\n",
      "_______________________________________________\n",
      "CLASSIFICATION REPORT:\n",
      "                     0            1  accuracy    macro avg  weighted avg\n",
      "precision     0.990596     0.991766  0.991111     0.991181      0.991113\n",
      "recall        0.993515     0.988069  0.991111     0.990792      0.991111\n",
      "f1-score      0.992053     0.989914  0.991111     0.990984      0.991109\n",
      "support    5089.000000  4023.000000  0.991111  9112.000000   9112.000000\n",
      "_______________________________________________\n",
      "Confusion Matrix: \n",
      " [[5056   33]\n",
      " [  48 3975]]\n",
      "\n"
     ]
    }
   ],
   "source": [
    "print_score(bayes_search,X_train, y_train, X_test, y_test, train=False)"
   ]
  },
  {
   "cell_type": "code",
   "execution_count": 45,
   "id": "f220f843",
   "metadata": {
    "execution": {
     "iopub.execute_input": "2024-03-18T09:39:59.703114Z",
     "iopub.status.busy": "2024-03-18T09:39:59.702730Z",
     "iopub.status.idle": "2024-03-18T09:40:02.298776Z",
     "shell.execute_reply": "2024-03-18T09:40:02.297259Z"
    },
    "papermill": {
     "duration": 2.641344,
     "end_time": "2024-03-18T09:40:02.301598",
     "exception": false,
     "start_time": "2024-03-18T09:39:59.660254",
     "status": "completed"
    },
    "tags": []
   },
   "outputs": [
    {
     "name": "stdout",
     "output_type": "stream",
     "text": [
      "human_voice_Script3.mp3:: AI Probability --> 3.274404909693762 ::  Human Probability --> 96.72559509030624 :: Prediction --> 1\n",
      "human_voice_Script2.mp3:: AI Probability --> 6.859798393597871 ::  Human Probability --> 93.14020160640213 :: Prediction --> 1\n",
      "human_voice_Script6.mp3:: AI Probability --> 27.44385950527638 ::  Human Probability --> 72.55614049472362 :: Prediction --> 1\n",
      "100.0\n"
     ]
    }
   ],
   "source": [
    "audio_file_path = '/kaggle/input/sample-hackathon-dataset/identity-personification/human_voice_train_data2'\n",
    "correct = 0\n",
    "total = 0\n",
    "for fileName in os.listdir(audio_file_path):\n",
    "    file_path = os.path.join(audio_file_path, fileName)\n",
    "    features = give_audio_feature(file_path)\n",
    "    columns = [f'feature_{i}' for i in range(len(features))]\n",
    "    data = [features]\n",
    "    df = pd.DataFrame(data, columns=columns)\n",
    "    y_pred = bayes_search.predict(df)\n",
    "    y_prob = bayes_search.predict_proba(df)\n",
    "    print(f'{fileName}:: AI Probability --> {y_prob[0][0]*100} ::  Human Probability --> {y_prob[0][1]*100} :: Prediction --> {y_pred[0]}')  \n",
    "    total += 1\n",
    "    if y_pred[0] == 1:\n",
    "        correct += 1\n",
    "\n",
    "print((correct/total)*100)"
   ]
  },
  {
   "cell_type": "code",
   "execution_count": 46,
   "id": "909599e0",
   "metadata": {
    "execution": {
     "iopub.execute_input": "2024-03-18T09:40:02.387076Z",
     "iopub.status.busy": "2024-03-18T09:40:02.386428Z",
     "iopub.status.idle": "2024-03-18T09:40:08.677586Z",
     "shell.execute_reply": "2024-03-18T09:40:08.676443Z"
    },
    "papermill": {
     "duration": 6.336708,
     "end_time": "2024-03-18T09:40:08.679966",
     "exception": false,
     "start_time": "2024-03-18T09:40:02.343258",
     "status": "completed"
    },
    "tags": []
   },
   "outputs": [
    {
     "name": "stdout",
     "output_type": "stream",
     "text": [
      "hospital_claims.mp3:: AI Probability --> 98.05699224568043 ::  Human Probability -->1.9430077543195652 :: Prediction --> 0\n",
      "insurance_brother.wav:: AI Probability --> 99.93471745788463 ::  Human Probability -->0.06528254211535968 :: Prediction --> 0\n",
      "audio_file (3).wav:: AI Probability --> 6.98231602216044 ::  Human Probability -->93.01768397783957 :: Prediction --> 1\n",
      "Usecase1_2.wav:: AI Probability --> 70.34129846159311 ::  Human Probability -->29.65870153840689 :: Prediction --> 0\n",
      "CancelCard.mp3:: AI Probability --> 53.876430233953066 ::  Human Probability -->46.123569766046934 :: Prediction --> 0\n",
      "creditcard_bill.mp3:: AI Probability --> 89.85578195030126 ::  Human Probability -->10.144218049698743 :: Prediction --> 0\n",
      "audio_file (2).wav:: AI Probability --> 70.31709017963239 ::  Human Probability -->29.68290982036761 :: Prediction --> 0\n",
      "Usecase_2_1_AI.wav:: AI Probability --> 99.70265052137837 ::  Human Probability -->0.2973494786216196 :: Prediction --> 0\n",
      "1.4_Audio_AI.wav:: AI Probability --> 97.64519219464253 ::  Human Probability -->2.3548078053574666 :: Prediction --> 0\n",
      "speech_20240213171731937.mp3:: AI Probability --> 99.78134818639924 ::  Human Probability -->0.2186518136007553 :: Prediction --> 0\n",
      "1.1_Audio_AI.wav:: AI Probability --> 44.18585958362511 ::  Human Probability -->55.81414041637489 :: Prediction --> 1\n",
      "audio_file.wav:: AI Probability --> 8.182588313792017 ::  Human Probability -->91.81741168620799 :: Prediction --> 1\n",
      "bike_service.mp3:: AI Probability --> 16.434754854794743 ::  Human Probability -->83.56524514520525 :: Prediction --> 1\n",
      "Usecase1_1.wav:: AI Probability --> 5.55858268665096 ::  Human Probability -->94.44141731334904 :: Prediction --> 1\n",
      "audio_file (1).wav:: AI Probability --> 0.15698112067561443 ::  Human Probability -->99.84301887932439 :: Prediction --> 1\n",
      "speech_20240213171944357.mp3:: AI Probability --> 99.93992842466356 ::  Human Probability -->0.06007157533643893 :: Prediction --> 0\n",
      "Usecase_2_1_Human.wav:: AI Probability --> 92.15691699962139 ::  Human Probability -->7.84308300037862 :: Prediction --> 0\n",
      "1.3_Audio_HM.wav:: AI Probability --> 98.7432368044197 ::  Human Probability -->1.256763195580298 :: Prediction --> 0\n",
      "1.2_Audio_HM.wav:: AI Probability --> 6.567977803247649 ::  Human Probability -->93.43202219675236 :: Prediction --> 1\n",
      "63.1578947368421\n"
     ]
    }
   ],
   "source": [
    "audio_file_path = '/kaggle/input/sample-hackathon-dataset/identity-personification/synthetic-audio-train'\n",
    "correct = 0\n",
    "total = 0\n",
    "for fileName in os.listdir(audio_file_path):\n",
    "    file_path = os.path.join(audio_file_path, fileName)\n",
    "    features = give_audio_feature(file_path)\n",
    "    columns = [f'feature_{i}' for i in range(len(features))]\n",
    "    data = [features]\n",
    "    df = pd.DataFrame(data, columns=columns)\n",
    "    y_pred = bayes_search.predict(df)\n",
    "    y_prob = bayes_search.predict_proba(df)\n",
    "    print(f'{fileName}:: AI Probability --> {y_prob[0][0]*100} ::  Human Probability -->{y_prob[0][1]*100} :: Prediction --> {y_pred[0]}') \n",
    "    total += 1\n",
    "    if y_pred[0] == 0:\n",
    "        correct += 1\n",
    "\n",
    "print((correct/total)*100)"
   ]
  },
  {
   "cell_type": "code",
   "execution_count": 47,
   "id": "c5565308",
   "metadata": {
    "execution": {
     "iopub.execute_input": "2024-03-18T09:40:08.767824Z",
     "iopub.status.busy": "2024-03-18T09:40:08.767379Z",
     "iopub.status.idle": "2024-03-18T09:41:45.166360Z",
     "shell.execute_reply": "2024-03-18T09:41:45.165047Z"
    },
    "papermill": {
     "duration": 96.445529,
     "end_time": "2024-03-18T09:41:45.169318",
     "exception": false,
     "start_time": "2024-03-18T09:40:08.723789",
     "status": "completed"
    },
    "tags": []
   },
   "outputs": [],
   "source": [
    "from sklearn.linear_model import LogisticRegressionCV\n",
    "logClf = LogisticRegressionCV(cv=5, random_state=0,solver=\"liblinear\").fit(X_train, y_train)"
   ]
  },
  {
   "cell_type": "code",
   "execution_count": 48,
   "id": "0493b517",
   "metadata": {
    "execution": {
     "iopub.execute_input": "2024-03-18T09:41:45.257042Z",
     "iopub.status.busy": "2024-03-18T09:41:45.256651Z",
     "iopub.status.idle": "2024-03-18T09:41:45.328519Z",
     "shell.execute_reply": "2024-03-18T09:41:45.327390Z"
    },
    "papermill": {
     "duration": 0.120246,
     "end_time": "2024-03-18T09:41:45.332165",
     "exception": false,
     "start_time": "2024-03-18T09:41:45.211919",
     "status": "completed"
    },
    "tags": []
   },
   "outputs": [
    {
     "name": "stdout",
     "output_type": "stream",
     "text": [
      "Test Result:\n",
      "================================================\n",
      "Accuracy Score: 99.10%\n",
      "_______________________________________________\n",
      "CLASSIFICATION REPORT:\n",
      "                     0            1  accuracy    macro avg  weighted avg\n",
      "precision     0.990594     0.991519  0.991001     0.991056      0.991002\n",
      "recall        0.993319     0.988069  0.991001     0.990694      0.991001\n",
      "f1-score      0.991954     0.989791  0.991001     0.990873      0.990999\n",
      "support    5089.000000  4023.000000  0.991001  9112.000000   9112.000000\n",
      "_______________________________________________\n",
      "Confusion Matrix: \n",
      " [[5055   34]\n",
      " [  48 3975]]\n",
      "\n"
     ]
    }
   ],
   "source": [
    "print_score(logClf, X_train, y_train, X_test, y_test, train=False)"
   ]
  },
  {
   "cell_type": "code",
   "execution_count": 49,
   "id": "73d4e9e1",
   "metadata": {
    "execution": {
     "iopub.execute_input": "2024-03-18T09:41:45.446171Z",
     "iopub.status.busy": "2024-03-18T09:41:45.445786Z",
     "iopub.status.idle": "2024-03-18T09:41:45.453184Z",
     "shell.execute_reply": "2024-03-18T09:41:45.452062Z"
    },
    "papermill": {
     "duration": 0.053578,
     "end_time": "2024-03-18T09:41:45.455487",
     "exception": false,
     "start_time": "2024-03-18T09:41:45.401909",
     "status": "completed"
    },
    "tags": []
   },
   "outputs": [
    {
     "name": "stdout",
     "output_type": "stream",
     "text": [
      "0 occurs 5089 times\n",
      "1 occurs 4023 times\n"
     ]
    }
   ],
   "source": [
    "unique_values, counts = np.unique(y_test, return_counts=True)\n",
    "\n",
    "# Print the results\n",
    "for value, count in zip(unique_values, counts):\n",
    "    print(f\"{value} occurs {count} times\")"
   ]
  },
  {
   "cell_type": "code",
   "execution_count": null,
   "id": "505d8276",
   "metadata": {
    "papermill": {
     "duration": 0.042274,
     "end_time": "2024-03-18T09:41:45.539988",
     "exception": false,
     "start_time": "2024-03-18T09:41:45.497714",
     "status": "completed"
    },
    "tags": []
   },
   "outputs": [],
   "source": []
  },
  {
   "cell_type": "code",
   "execution_count": 50,
   "id": "e2149d30",
   "metadata": {
    "execution": {
     "iopub.execute_input": "2024-03-18T09:41:45.626940Z",
     "iopub.status.busy": "2024-03-18T09:41:45.625823Z",
     "iopub.status.idle": "2024-03-18T09:41:45.635629Z",
     "shell.execute_reply": "2024-03-18T09:41:45.634843Z"
    },
    "papermill": {
     "duration": 0.055424,
     "end_time": "2024-03-18T09:41:45.637744",
     "exception": false,
     "start_time": "2024-03-18T09:41:45.582320",
     "status": "completed"
    },
    "tags": []
   },
   "outputs": [
    {
     "data": {
      "text/plain": [
       "['/kaggle/working/logClf.joblib']"
      ]
     },
     "execution_count": 50,
     "metadata": {},
     "output_type": "execute_result"
    }
   ],
   "source": [
    "joblib.dump(logClf, \"/kaggle/working/logClf.joblib\")"
   ]
  },
  {
   "cell_type": "code",
   "execution_count": 51,
   "id": "645fe9d8",
   "metadata": {
    "execution": {
     "iopub.execute_input": "2024-03-18T09:41:45.724970Z",
     "iopub.status.busy": "2024-03-18T09:41:45.724281Z",
     "iopub.status.idle": "2024-03-18T09:41:48.139917Z",
     "shell.execute_reply": "2024-03-18T09:41:48.138780Z"
    },
    "papermill": {
     "duration": 2.462547,
     "end_time": "2024-03-18T09:41:48.142637",
     "exception": false,
     "start_time": "2024-03-18T09:41:45.680090",
     "status": "completed"
    },
    "tags": []
   },
   "outputs": [
    {
     "name": "stdout",
     "output_type": "stream",
     "text": [
      "human_voice_Script3.mp3:: AI Probability --> 4.323153646562961 ::  Human Probability --> 95.67684635343704 :: Prediction --> 1\n",
      "human_voice_Script2.mp3:: AI Probability --> 7.799512215360338 ::  Human Probability --> 92.20048778463966 :: Prediction --> 1\n",
      "human_voice_Script6.mp3:: AI Probability --> 34.48079053655806 ::  Human Probability --> 65.51920946344194 :: Prediction --> 1\n",
      "100.0\n"
     ]
    }
   ],
   "source": [
    "audio_file_path = '/kaggle/input/sample-hackathon-dataset/identity-personification/human_voice_train_data2'\n",
    "correct = 0\n",
    "total = 0\n",
    "for fileName in os.listdir(audio_file_path):\n",
    "    file_path = os.path.join(audio_file_path, fileName)\n",
    "    features = give_audio_feature(file_path)\n",
    "    columns = [f'feature_{i}' for i in range(len(features))]\n",
    "    data = [features]\n",
    "    df = pd.DataFrame(data, columns=columns)\n",
    "    y_pred = logClf.predict(df)\n",
    "    y_prob = logClf.predict_proba(df)\n",
    "    print(f'{fileName}:: AI Probability --> {y_prob[0][0]*100} ::  Human Probability --> {y_prob[0][1]*100} :: Prediction --> {y_pred[0]}')  \n",
    "    total += 1\n",
    "    if y_pred[0] == 1:\n",
    "        correct += 1\n",
    "\n",
    "print((correct/total)*100)"
   ]
  },
  {
   "cell_type": "code",
   "execution_count": 52,
   "id": "4bfdf9e0",
   "metadata": {
    "execution": {
     "iopub.execute_input": "2024-03-18T09:41:48.231014Z",
     "iopub.status.busy": "2024-03-18T09:41:48.230168Z",
     "iopub.status.idle": "2024-03-18T09:41:54.630683Z",
     "shell.execute_reply": "2024-03-18T09:41:54.629345Z"
    },
    "papermill": {
     "duration": 6.447462,
     "end_time": "2024-03-18T09:41:54.633212",
     "exception": false,
     "start_time": "2024-03-18T09:41:48.185750",
     "status": "completed"
    },
    "tags": []
   },
   "outputs": [
    {
     "name": "stdout",
     "output_type": "stream",
     "text": [
      "hospital_claims.mp3:: AI Probability --> 98.28852415623443 ::  Human Probability -->1.7114758437655804 :: Prediction --> 0\n",
      "insurance_brother.wav:: AI Probability --> 99.94555969895026 ::  Human Probability -->0.05444030104973839 :: Prediction --> 0\n",
      "audio_file (3).wav:: AI Probability --> 5.513165782488095 ::  Human Probability -->94.48683421751191 :: Prediction --> 1\n",
      "Usecase1_2.wav:: AI Probability --> 66.90132028270645 ::  Human Probability -->33.098679717293535 :: Prediction --> 0\n",
      "CancelCard.mp3:: AI Probability --> 52.190887197781436 ::  Human Probability -->47.809112802218564 :: Prediction --> 0\n",
      "creditcard_bill.mp3:: AI Probability --> 90.01863446460962 ::  Human Probability -->9.98136553539039 :: Prediction --> 0\n",
      "audio_file (2).wav:: AI Probability --> 69.09209509673578 ::  Human Probability -->30.907904903264228 :: Prediction --> 0\n",
      "Usecase_2_1_AI.wav:: AI Probability --> 99.6954326721774 ::  Human Probability -->0.3045673278226061 :: Prediction --> 0\n",
      "1.4_Audio_AI.wav:: AI Probability --> 96.78800893963134 ::  Human Probability -->3.2119910603686552 :: Prediction --> 0\n",
      "speech_20240213171731937.mp3:: AI Probability --> 99.678092052792 ::  Human Probability -->0.3219079472079974 :: Prediction --> 0\n",
      "1.1_Audio_AI.wav:: AI Probability --> 46.76070237369176 ::  Human Probability -->53.23929762630824 :: Prediction --> 1\n",
      "audio_file.wav:: AI Probability --> 7.525329572665463 ::  Human Probability -->92.47467042733454 :: Prediction --> 1\n",
      "bike_service.mp3:: AI Probability --> 15.081774448221541 ::  Human Probability -->84.91822555177846 :: Prediction --> 1\n",
      "Usecase1_1.wav:: AI Probability --> 5.99562026201127 ::  Human Probability -->94.00437973798873 :: Prediction --> 1\n",
      "audio_file (1).wav:: AI Probability --> 0.17740318357705176 ::  Human Probability -->99.82259681642294 :: Prediction --> 1\n",
      "speech_20240213171944357.mp3:: AI Probability --> 99.91697018811456 ::  Human Probability -->0.08302981188543679 :: Prediction --> 0\n",
      "Usecase_2_1_Human.wav:: AI Probability --> 91.84136702961271 ::  Human Probability -->8.158632970387284 :: Prediction --> 0\n",
      "1.3_Audio_HM.wav:: AI Probability --> 98.58215958282035 ::  Human Probability -->1.417840417179652 :: Prediction --> 0\n",
      "1.2_Audio_HM.wav:: AI Probability --> 5.672985758685101 ::  Human Probability -->94.3270142413149 :: Prediction --> 1\n",
      "63.1578947368421\n"
     ]
    }
   ],
   "source": [
    "audio_file_path = '/kaggle/input/sample-hackathon-dataset/identity-personification/synthetic-audio-train'\n",
    "correct = 0\n",
    "total = 0\n",
    "for fileName in os.listdir(audio_file_path):\n",
    "    file_path = os.path.join(audio_file_path, fileName)\n",
    "    features = give_audio_feature(file_path)\n",
    "    columns = [f'feature_{i}' for i in range(len(features))]\n",
    "    data = [features]\n",
    "    df = pd.DataFrame(data, columns=columns)\n",
    "    y_pred = logClf.predict(df)\n",
    "    y_prob = logClf.predict_proba(df)\n",
    "    print(f'{fileName}:: AI Probability --> {y_prob[0][0]*100} ::  Human Probability -->{y_prob[0][1]*100} :: Prediction --> {y_pred[0]}') \n",
    "    total += 1\n",
    "    if y_pred[0] == 0:\n",
    "        correct += 1\n",
    "\n",
    "print((correct/total)*100)"
   ]
  },
  {
   "cell_type": "code",
   "execution_count": 53,
   "id": "bfd6fa51",
   "metadata": {
    "execution": {
     "iopub.execute_input": "2024-03-18T09:41:54.726158Z",
     "iopub.status.busy": "2024-03-18T09:41:54.725742Z",
     "iopub.status.idle": "2024-03-18T09:42:02.583770Z",
     "shell.execute_reply": "2024-03-18T09:42:02.582431Z"
    },
    "papermill": {
     "duration": 7.907004,
     "end_time": "2024-03-18T09:42:02.586328",
     "exception": false,
     "start_time": "2024-03-18T09:41:54.679324",
     "status": "completed"
    },
    "tags": []
   },
   "outputs": [
    {
     "name": "stdout",
     "output_type": "stream",
     "text": [
      "speech_20240226084000286.mp3:: AI Probability --> 0.05757809243437384 ::  Human Probability -->99.94242190756563 :: Prediction --> 1\n",
      "AI_Voice_Script3.mp3:: AI Probability --> 61.0811824893689 ::  Human Probability -->38.9188175106311 :: Prediction --> 0\n",
      "speech_20240221015531344.mp3:: AI Probability --> 76.46739760129394 ::  Human Probability -->23.532602398706057 :: Prediction --> 0\n",
      "AI_Voice_Script6.mp3:: AI Probability --> 40.44550411546815 ::  Human Probability -->59.55449588453185 :: Prediction --> 1\n",
      "speech_20240226084048037.mp3:: AI Probability --> 3.4577293690821187 ::  Human Probability -->96.54227063091788 :: Prediction --> 1\n",
      "speech_20240226085310472.mp3:: AI Probability --> 0.0171107194398612 ::  Human Probability -->99.98288928056014 :: Prediction --> 1\n",
      "speech_20240226085219662.mp3:: AI Probability --> 0.2414309121847702 ::  Human Probability -->99.75856908781523 :: Prediction --> 1\n",
      "speech_20240226085240379.mp3:: AI Probability --> 0.028850659461787664 ::  Human Probability -->99.97114934053822 :: Prediction --> 1\n",
      "speech_20240226084400838.mp3:: AI Probability --> 0.18297804550733154 ::  Human Probability -->99.81702195449267 :: Prediction --> 1\n",
      "speech_20240226084151027.mp3:: AI Probability --> 0.050550793042247744 ::  Human Probability -->99.94944920695775 :: Prediction --> 1\n",
      "speech_20240226084236165.mp3:: AI Probability --> 0.004616316146199839 ::  Human Probability -->99.9953836838538 :: Prediction --> 1\n",
      "speech_20240221021556738.mp3:: AI Probability --> 53.86203397172794 ::  Human Probability -->46.13796602827206 :: Prediction --> 0\n",
      "speech_20240226085120924.mp3:: AI Probability --> 0.17847175864522669 ::  Human Probability -->99.82152824135477 :: Prediction --> 1\n",
      "speech_20240226083921007.mp3:: AI Probability --> 1.526802048641429 ::  Human Probability -->98.47319795135857 :: Prediction --> 1\n",
      "AI_Voice_Script2.mp3:: AI Probability --> 4.737991461972902 ::  Human Probability -->95.2620085380271 :: Prediction --> 1\n",
      "AI_Voice_Script1.mp3:: AI Probability --> 98.3794824262547 ::  Human Probability -->1.6205175737453028 :: Prediction --> 0\n",
      "speech_20240226085259762.mp3:: AI Probability --> 0.005247198037117151 ::  Human Probability -->99.99475280196289 :: Prediction --> 1\n",
      "speech_20240221020831352.mp3:: AI Probability --> 85.3238745871898 ::  Human Probability -->14.67612541281019 :: Prediction --> 0\n",
      "72.22222222222221\n"
     ]
    }
   ],
   "source": [
    "audio_file_path = '/kaggle/input/sample-hackathon-dataset/identity-personification/train_data_2'\n",
    "correct = 0\n",
    "total = 0\n",
    "for fileName in os.listdir(audio_file_path):\n",
    "    file_path = os.path.join(audio_file_path, fileName)\n",
    "    features = give_audio_feature(file_path)\n",
    "    columns = [f'feature_{i}' for i in range(len(features))]\n",
    "    data = [features]\n",
    "    df = pd.DataFrame(data, columns=columns)\n",
    "    y_pred = logClf.predict(df)\n",
    "    y_prob = logClf.predict_proba(df)\n",
    "    print(f'{fileName}:: AI Probability --> {y_prob[0][0]*100} ::  Human Probability -->{y_prob[0][1]*100} :: Prediction --> {y_pred[0]}') \n",
    "    total += 1\n",
    "    if y_pred[0] == 1:\n",
    "        correct += 1\n",
    "\n",
    "print((correct/total)*100)"
   ]
  },
  {
   "cell_type": "code",
   "execution_count": 54,
   "id": "8e1c3902",
   "metadata": {
    "execution": {
     "iopub.execute_input": "2024-03-18T09:42:02.680561Z",
     "iopub.status.busy": "2024-03-18T09:42:02.680150Z",
     "iopub.status.idle": "2024-03-18T09:42:04.112354Z",
     "shell.execute_reply": "2024-03-18T09:42:04.111175Z"
    },
    "papermill": {
     "duration": 1.482381,
     "end_time": "2024-03-18T09:42:04.114836",
     "exception": false,
     "start_time": "2024-03-18T09:42:02.632455",
     "status": "completed"
    },
    "tags": []
   },
   "outputs": [
    {
     "name": "stdout",
     "output_type": "stream",
     "text": [
      "LJ004-0143.wav:: AI Probability --> 34.087900229138704 ::  Human Probability -->65.9120997708613 :: Prediction --> 1\n",
      "LJ013-0153.wav:: AI Probability --> 99.92923603892275 ::  Human Probability -->0.07076396107724738 :: Prediction --> 0\n",
      "LJ008-0282.wav:: AI Probability --> 88.5669141868435 ::  Human Probability -->11.433085813156493 :: Prediction --> 0\n",
      "LJ048-0113.wav:: AI Probability --> 99.99714044821917 ::  Human Probability -->0.002859551780831173 :: Prediction --> 0\n",
      "LJ009-0166.wav:: AI Probability --> 46.23248405712578 ::  Human Probability -->53.76751594287422 :: Prediction --> 1\n",
      "LJ038-0035.wav:: AI Probability --> 99.35836504018665 ::  Human Probability -->0.6416349598133415 :: Prediction --> 0\n",
      "LJ031-0043.wav:: AI Probability --> 0.08262295758360017 ::  Human Probability -->99.9173770424164 :: Prediction --> 1\n",
      "LJ038-0120.wav:: AI Probability --> 95.66289161596613 ::  Human Probability -->4.337108384033877 :: Prediction --> 0\n",
      "LJ011-0258.wav:: AI Probability --> 96.75978535558151 ::  Human Probability -->3.2402146444184834 :: Prediction --> 0\n",
      "LJ028-0409.wav:: AI Probability --> 94.26001375047014 ::  Human Probability -->5.7399862495298635 :: Prediction --> 0\n",
      "30.0\n"
     ]
    }
   ],
   "source": [
    "audio_file_path = '/kaggle/input/the-lj-speech-dataset/LJSpeech-1.1/wavs'\n",
    "correct = 0\n",
    "total = 0\n",
    "for fileName in os.listdir(audio_file_path)[:10]:\n",
    "    file_path = os.path.join(audio_file_path, fileName)\n",
    "    features = give_audio_feature(file_path)\n",
    "    columns = [f'feature_{i}' for i in range(len(features))]\n",
    "    data = [features]\n",
    "    df = pd.DataFrame(data, columns=columns)\n",
    "    y_pred = logClf.predict(df)\n",
    "    y_prob = logClf.predict_proba(df)\n",
    "    print(f'{fileName}:: AI Probability --> {y_prob[0][0]*100} ::  Human Probability -->{y_prob[0][1]*100} :: Prediction --> {y_pred[0]}') \n",
    "    total += 1\n",
    "    if y_pred[0] == 1:\n",
    "        correct += 1\n",
    "\n",
    "print((correct/total)*100)"
   ]
  },
  {
   "cell_type": "code",
   "execution_count": 55,
   "id": "df574b77",
   "metadata": {
    "execution": {
     "iopub.execute_input": "2024-03-18T09:42:04.214460Z",
     "iopub.status.busy": "2024-03-18T09:42:04.214014Z",
     "iopub.status.idle": "2024-03-18T09:42:04.460860Z",
     "shell.execute_reply": "2024-03-18T09:42:04.459635Z"
    },
    "papermill": {
     "duration": 0.29877,
     "end_time": "2024-03-18T09:42:04.463628",
     "exception": false,
     "start_time": "2024-03-18T09:42:04.164858",
     "status": "completed"
    },
    "tags": []
   },
   "outputs": [
    {
     "name": "stdout",
     "output_type": "stream",
     "text": [
      "Old Pallavaram.mp3:: AI Probability --> 1.3793909126552872 ::  Human Probability --> 98.62060908734472 :: Prediction --> 1\n",
      "100.0\n"
     ]
    }
   ],
   "source": [
    "audio_file_path = '/kaggle/input/appy-voice'\n",
    "correct = 0\n",
    "total = 0\n",
    "for fileName in os.listdir(audio_file_path):\n",
    "    file_path = os.path.join(audio_file_path, fileName)\n",
    "    features = give_audio_feature(file_path)\n",
    "    columns = [f'feature_{i}' for i in range(len(features))]\n",
    "    data = [features]\n",
    "    df = pd.DataFrame(data, columns=columns)\n",
    "    y_pred = logClf.predict(df)\n",
    "    y_prob = logClf.predict_proba(df)\n",
    "    print(f'{fileName}:: AI Probability --> {y_prob[0][0]*100} ::  Human Probability --> {y_prob[0][1]*100} :: Prediction --> {y_pred[0]}')  \n",
    "    total += 1\n",
    "    if y_pred[0] == 1:\n",
    "        correct += 1\n",
    "\n",
    "print((correct/total)*100)"
   ]
  },
  {
   "cell_type": "code",
   "execution_count": 56,
   "id": "1c1adc91",
   "metadata": {
    "execution": {
     "iopub.execute_input": "2024-03-18T09:42:04.560652Z",
     "iopub.status.busy": "2024-03-18T09:42:04.560186Z",
     "iopub.status.idle": "2024-03-18T09:42:04.566458Z",
     "shell.execute_reply": "2024-03-18T09:42:04.565352Z"
    },
    "papermill": {
     "duration": 0.058505,
     "end_time": "2024-03-18T09:42:04.568974",
     "exception": false,
     "start_time": "2024-03-18T09:42:04.510469",
     "status": "completed"
    },
    "tags": []
   },
   "outputs": [],
   "source": [
    "# def give_audio_feature(file_path,sr=44100):\n",
    "#     audio, _ = librosa.load(file_path, sr=sr)\n",
    "#     # Extract features (e.g., MFCC)\n",
    "#     mfcc_features = librosa.feature.mfcc(y=audio, sr=sr, n_mfcc=13)\n",
    "#     spectral_centroid = librosa.feature.spectral_centroid(y=audio, sr=sr)\n",
    "#     spectral_bandwidth = librosa.feature.spectral_bandwidth(y=audio, sr=sr)\n",
    "#     spectral_contrast = librosa.feature.spectral_contrast(y=audio, sr=sr)\n",
    "#     spectral_rolloff = librosa.feature.spectral_rolloff(y=audio, sr=sr)\n",
    "#     zero_crossing_rate = librosa.feature.zero_crossing_rate(y=audio)\n",
    "#     # Compute temporal statistical features\n",
    "#     mean = np.mean(audio)\n",
    "#     std_dev = np.std(audio)\n",
    "#     skewness = scipy.stats.skew(audio)\n",
    "#     kurtosis = scipy.stats.kurtosis(audio)\n",
    "#     # Concatenate all features\n",
    "#     combined_features = np.concatenate([\n",
    "#                 mfcc_features.mean(axis=1),\n",
    "#                 mfcc_features.std(axis=1),\n",
    "#                 spectral_contrast.mean(axis=1),\n",
    "#                 spectral_centroid.mean(axis=1),\n",
    "#                 spectral_bandwidth.mean(axis=1),\n",
    "#                 spectral_rolloff.mean(axis=1),\n",
    "#                 zero_crossing_rate.mean(axis=1),\n",
    "#                 [spectral_centroid.mean(),\n",
    "#                  mfcc_features.mean(),\n",
    "#                  spectral_contrast.mean(),\n",
    "#                 spectral_bandwidth.mean(),\n",
    "#                 spectral_rolloff.mean(),\n",
    "#                 zero_crossing_rate.mean(),\n",
    "#                 mean, std_dev, skewness, kurtosis]])\n",
    "#     return combined_features"
   ]
  },
  {
   "cell_type": "code",
   "execution_count": 57,
   "id": "1392199a",
   "metadata": {
    "execution": {
     "iopub.execute_input": "2024-03-18T09:42:04.667114Z",
     "iopub.status.busy": "2024-03-18T09:42:04.666677Z",
     "iopub.status.idle": "2024-03-18T09:42:04.672745Z",
     "shell.execute_reply": "2024-03-18T09:42:04.671581Z"
    },
    "papermill": {
     "duration": 0.058479,
     "end_time": "2024-03-18T09:42:04.675308",
     "exception": false,
     "start_time": "2024-03-18T09:42:04.616829",
     "status": "completed"
    },
    "tags": []
   },
   "outputs": [],
   "source": [
    "# def give_audio_feature(file_path,sr=44100):\n",
    "#     audio, _ = librosa.load(file_path, sr=sr)\n",
    "#     # Extract features (e.g., MFCC)\n",
    "#     mfcc_features = librosa.feature.mfcc(y=audio, sr=sr, n_mfcc=13)\n",
    "#     spectral_centroid = librosa.feature.spectral_centroid(y=audio, sr=sr)\n",
    "#     spectral_bandwidth = librosa.feature.spectral_bandwidth(y=audio, sr=sr)\n",
    "#     spectral_contrast = librosa.feature.spectral_contrast(y=audio, sr=sr)\n",
    "#     spectral_rolloff = librosa.feature.spectral_rolloff(y=audio, sr=sr)\n",
    "#     zero_crossing_rate = librosa.feature.zero_crossing_rate(y=audio)\n",
    "#     # Compute temporal statistical features\n",
    "#     mean = np.mean(audio)\n",
    "#     std_dev = np.std(audio)\n",
    "#     skewness = scipy.stats.skew(audio)\n",
    "#     kurtosis = scipy.stats.kurtosis(audio)\n",
    "#     # Concatenate all features\n",
    "#     combined_features = np.concatenate([\n",
    "#                 mfcc_features.mean(axis=1),\n",
    "#                 mfcc_features.std(axis=1),\n",
    "#                 spectral_contrast.mean(axis=1),\n",
    "#                 [spectral_centroid.mean(),\n",
    "#                  mfcc_features.mean(),\n",
    "#                  spectral_contrast.mean(),\n",
    "#                 spectral_bandwidth.mean(),\n",
    "#                 spectral_rolloff.mean(),\n",
    "#                 zero_crossing_rate.mean(),\n",
    "#                 mean, std_dev, skewness, kurtosis]])\n",
    "#     return combined_features"
   ]
  },
  {
   "cell_type": "code",
   "execution_count": 58,
   "id": "68bec9e2",
   "metadata": {
    "execution": {
     "iopub.execute_input": "2024-03-18T09:42:04.772873Z",
     "iopub.status.busy": "2024-03-18T09:42:04.772483Z",
     "iopub.status.idle": "2024-03-18T09:42:06.427812Z",
     "shell.execute_reply": "2024-03-18T09:42:06.426444Z"
    },
    "papermill": {
     "duration": 1.706429,
     "end_time": "2024-03-18T09:42:06.430555",
     "exception": false,
     "start_time": "2024-03-18T09:42:04.724126",
     "status": "completed"
    },
    "tags": []
   },
   "outputs": [
    {
     "name": "stdout",
     "output_type": "stream",
     "text": [
      "0.9521510096575944\n"
     ]
    }
   ],
   "source": [
    "from sklearn.neighbors import KNeighborsClassifier\n",
    "neigh = KNeighborsClassifier(n_neighbors=7)\n",
    "neigh.fit(X_train, y_train)\n",
    "y_pred = neigh.predict(X_test)\n",
    "acc = accuracy_score(y_pred , y_test)\n",
    "print(acc)"
   ]
  },
  {
   "cell_type": "code",
   "execution_count": 59,
   "id": "6cd3f90f",
   "metadata": {
    "execution": {
     "iopub.execute_input": "2024-03-18T09:42:06.527891Z",
     "iopub.status.busy": "2024-03-18T09:42:06.527498Z",
     "iopub.status.idle": "2024-03-18T09:42:08.970871Z",
     "shell.execute_reply": "2024-03-18T09:42:08.969916Z"
    },
    "papermill": {
     "duration": 2.495077,
     "end_time": "2024-03-18T09:42:08.973854",
     "exception": false,
     "start_time": "2024-03-18T09:42:06.478777",
     "status": "completed"
    },
    "tags": []
   },
   "outputs": [
    {
     "name": "stdout",
     "output_type": "stream",
     "text": [
      "human_voice_Script3.mp3\n",
      "[1]\n",
      "human_voice_Script2.mp3\n",
      "[1]\n",
      "human_voice_Script6.mp3\n",
      "[1]\n",
      "100.0\n"
     ]
    }
   ],
   "source": [
    "audio_file_path = '/kaggle/input/sample-hackathon-dataset/identity-personification/human_voice_train_data2'\n",
    "correct = 0\n",
    "total = 0\n",
    "for fileName in os.listdir(audio_file_path):\n",
    "    print(fileName)\n",
    "    file_path = os.path.join(audio_file_path, fileName)\n",
    "    features = give_audio_feature(file_path)\n",
    "    columns = [f'feature_{i}' for i in range(len(features))]\n",
    "    data = [features]\n",
    "    df = pd.DataFrame(data, columns=columns)\n",
    "    df.head()\n",
    "    y_pred= neigh.predict(df)\n",
    "    print(y_pred) \n",
    "    total += 1\n",
    "    if y_pred[0] == 1:\n",
    "        correct += 1\n",
    "\n",
    "print((correct/total)*100)"
   ]
  },
  {
   "cell_type": "code",
   "execution_count": 60,
   "id": "1ef4558b",
   "metadata": {
    "execution": {
     "iopub.execute_input": "2024-03-18T09:42:09.072369Z",
     "iopub.status.busy": "2024-03-18T09:42:09.071691Z",
     "iopub.status.idle": "2024-03-18T09:42:15.458781Z",
     "shell.execute_reply": "2024-03-18T09:42:15.457899Z"
    },
    "papermill": {
     "duration": 6.43907,
     "end_time": "2024-03-18T09:42:15.461599",
     "exception": false,
     "start_time": "2024-03-18T09:42:09.022529",
     "status": "completed"
    },
    "tags": []
   },
   "outputs": [
    {
     "name": "stdout",
     "output_type": "stream",
     "text": [
      "hospital_claims.mp3\n",
      "[0]\n",
      "insurance_brother.wav\n",
      "[1]\n",
      "audio_file (3).wav\n",
      "[1]\n",
      "Usecase1_2.wav\n",
      "[1]\n",
      "CancelCard.mp3\n",
      "[1]\n",
      "creditcard_bill.mp3\n",
      "[1]\n",
      "audio_file (2).wav\n",
      "[1]\n",
      "Usecase_2_1_AI.wav\n",
      "[1]\n",
      "1.4_Audio_AI.wav\n",
      "[1]\n",
      "speech_20240213171731937.mp3\n",
      "[1]\n",
      "1.1_Audio_AI.wav\n",
      "[1]\n",
      "audio_file.wav\n",
      "[1]\n",
      "bike_service.mp3\n",
      "[0]\n",
      "Usecase1_1.wav\n",
      "[1]\n",
      "audio_file (1).wav\n",
      "[1]\n",
      "speech_20240213171944357.mp3\n",
      "[0]\n",
      "Usecase_2_1_Human.wav\n",
      "[1]\n",
      "1.3_Audio_HM.wav\n",
      "[1]\n",
      "1.2_Audio_HM.wav\n",
      "[1]\n",
      "15.789473684210526\n"
     ]
    }
   ],
   "source": [
    "audio_file_path = '/kaggle/input/sample-hackathon-dataset/identity-personification/synthetic-audio-train'\n",
    "correct = 0\n",
    "total = 0\n",
    "for fileName in os.listdir(audio_file_path):\n",
    "    print(fileName)\n",
    "    file_path = os.path.join(audio_file_path, fileName)\n",
    "    features = give_audio_feature(file_path)\n",
    "#     features = features.reshape(-1, 41)\n",
    "    columns = [f'feature_{i}' for i in range(len(features))]\n",
    "    data = [features]\n",
    "    df = pd.DataFrame(data, columns=columns)\n",
    "    df.head()\n",
    "    y_pred= neigh.predict(df)\n",
    "    print(y_pred) \n",
    "    total += 1\n",
    "    if y_pred[0] == 0:\n",
    "        correct += 1\n",
    "\n",
    "print((correct/total)*100)"
   ]
  },
  {
   "cell_type": "markdown",
   "id": "47e44b85",
   "metadata": {
    "papermill": {
     "duration": 0.048739,
     "end_time": "2024-03-18T09:42:15.560805",
     "exception": false,
     "start_time": "2024-03-18T09:42:15.512066",
     "status": "completed"
    },
    "tags": []
   },
   "source": [
    "# RFC Model"
   ]
  },
  {
   "cell_type": "code",
   "execution_count": 61,
   "id": "d7c03b38",
   "metadata": {
    "execution": {
     "iopub.execute_input": "2024-03-18T09:42:15.662286Z",
     "iopub.status.busy": "2024-03-18T09:42:15.661860Z",
     "iopub.status.idle": "2024-03-18T09:42:15.873609Z",
     "shell.execute_reply": "2024-03-18T09:42:15.872509Z"
    },
    "papermill": {
     "duration": 0.265895,
     "end_time": "2024-03-18T09:42:15.876451",
     "exception": false,
     "start_time": "2024-03-18T09:42:15.610556",
     "status": "completed"
    },
    "tags": []
   },
   "outputs": [],
   "source": [
    "from xgboost import XGBClassifier"
   ]
  },
  {
   "cell_type": "code",
   "execution_count": 62,
   "id": "715b062f",
   "metadata": {
    "execution": {
     "iopub.execute_input": "2024-03-18T09:42:15.976875Z",
     "iopub.status.busy": "2024-03-18T09:42:15.976481Z",
     "iopub.status.idle": "2024-03-18T09:42:17.215089Z",
     "shell.execute_reply": "2024-03-18T09:42:17.213506Z"
    },
    "papermill": {
     "duration": 1.292144,
     "end_time": "2024-03-18T09:42:17.217846",
     "exception": false,
     "start_time": "2024-03-18T09:42:15.925702",
     "status": "completed"
    },
    "tags": []
   },
   "outputs": [
    {
     "name": "stdout",
     "output_type": "stream",
     "text": [
      "Test Result:\n",
      "================================================\n",
      "Accuracy Score: 98.09%\n",
      "_______________________________________________\n",
      "CLASSIFICATION REPORT:\n",
      "                     0            1  accuracy    macro avg  weighted avg\n",
      "precision     0.988938     0.970455  0.980906     0.979697      0.981028\n",
      "recall        0.977556     0.985385  0.980906     0.981470      0.980906\n",
      "f1-score      0.983214     0.977863  0.980906     0.980538      0.980924\n",
      "support    5213.000000  3900.000000  0.980906  9113.000000   9113.000000\n",
      "_______________________________________________\n",
      "Confusion Matrix: \n",
      " [[5096  117]\n",
      " [  57 3843]]\n",
      "\n"
     ]
    }
   ],
   "source": [
    "import numpy as np\n",
    "import pandas as pd\n",
    "from sklearn.model_selection import train_test_split, GridSearchCV\n",
    "from xgboost import XGBClassifier\n",
    "from sklearn.metrics import accuracy_score\n",
    "\n",
    "# Assuming you have your data in X (features) and y (target)\n",
    "# Split the data into train and test sets\n",
    "X_train, X_test, y_train, y_test = train_test_split(X, y, test_size=0.2, random_state=42)\n",
    "params = {'colsample_bytree': 0.5, 'gamma': 0, 'learning_rate': 0.01, 'max_depth': 3, 'n_estimators': 200, 'subsample': 0.5}\n",
    "# Define the classifier\n",
    "xgb = XGBClassifier(**params)\n",
    "\n",
    "# # Define the hyperparameters grid to search\n",
    "# param_grid = {\n",
    "#     'n_estimators': [100, 200, 300],  # Number of trees in the forest\n",
    "#     'max_depth': [3, 5, 7],  # Maximum depth of each tree\n",
    "#     'learning_rate': [0.01, 0.05, 0.1],  # Learning rate\n",
    "#     'subsample': [0.5, 0.8, 1.0],  # Subsample ratio of the training instances\n",
    "#     'colsample_bytree': [0.5, 0.8, 1.0],  # Subsample ratio of columns when constructing each tree\n",
    "#     'gamma': [0, 0.1, 0.2]  # Minimum loss reduction required to make a further partition on a leaf node of the tree\n",
    "# }\n",
    "\n",
    "# # Define GridSearchCV with the classifier, parameter grid, and cross-validation\n",
    "# grid_search = GridSearchCV(estimator=xgb, param_grid=param_grid, cv=5, scoring='accuracy', verbose = 2)\n",
    "\n",
    "# Perform the grid search\n",
    "xgb.fit(X_train, y_train)\n",
    "\n",
    "# Get the best parameters\n",
    "# best_params = grid_search.best_params_\n",
    "# print(\"Best Parameters:\", best_params)\n",
    "\n",
    "# Evaluate the model with the best parameters\n",
    "print_score(xgb, X_train, y_train, X_test, y_test, train=False)"
   ]
  },
  {
   "cell_type": "code",
   "execution_count": 63,
   "id": "d44e4975",
   "metadata": {
    "execution": {
     "iopub.execute_input": "2024-03-18T09:42:17.319023Z",
     "iopub.status.busy": "2024-03-18T09:42:17.318622Z",
     "iopub.status.idle": "2024-03-18T09:42:19.798146Z",
     "shell.execute_reply": "2024-03-18T09:42:19.797268Z"
    },
    "papermill": {
     "duration": 2.535033,
     "end_time": "2024-03-18T09:42:19.802251",
     "exception": false,
     "start_time": "2024-03-18T09:42:17.267218",
     "status": "completed"
    },
    "tags": []
   },
   "outputs": [
    {
     "name": "stdout",
     "output_type": "stream",
     "text": [
      "human_voice_Script3.mp3\n",
      "[1]\n",
      "human_voice_Script2.mp3\n",
      "[1]\n",
      "human_voice_Script6.mp3\n",
      "[1]\n",
      "3 out of 3\n",
      "100.0\n"
     ]
    }
   ],
   "source": [
    "audio_file_path = '/kaggle/input/sample-hackathon-dataset/identity-personification/human_voice_train_data2'\n",
    "correct = 0\n",
    "total = 0\n",
    "for fileName in os.listdir(audio_file_path):\n",
    "    print(fileName)\n",
    "    file_path = os.path.join(audio_file_path, fileName)\n",
    "    features = give_audio_feature(file_path)\n",
    "#     features = features.reshape(-1, 41)\n",
    "    columns = [f'feature_{i}' for i in range(len(features))]\n",
    "    data = [features]\n",
    "    df = pd.DataFrame(data, columns=columns)\n",
    "    df.head()\n",
    "    y_pred= xgb.predict(df)\n",
    "    print(y_pred) \n",
    "    total += 1\n",
    "    if y_pred[0] == 1:\n",
    "        correct += 1\n",
    "\n",
    "print(f'{correct} out of {total}')\n",
    "print((correct/total)*100)"
   ]
  },
  {
   "cell_type": "code",
   "execution_count": 64,
   "id": "019f5fcb",
   "metadata": {
    "execution": {
     "iopub.execute_input": "2024-03-18T09:42:19.904314Z",
     "iopub.status.busy": "2024-03-18T09:42:19.903910Z",
     "iopub.status.idle": "2024-03-18T09:42:26.507329Z",
     "shell.execute_reply": "2024-03-18T09:42:26.506353Z"
    },
    "papermill": {
     "duration": 6.656853,
     "end_time": "2024-03-18T09:42:26.509959",
     "exception": false,
     "start_time": "2024-03-18T09:42:19.853106",
     "status": "completed"
    },
    "tags": []
   },
   "outputs": [
    {
     "name": "stdout",
     "output_type": "stream",
     "text": [
      "hospital_claims.mp3\n",
      "[0]\n",
      "insurance_brother.wav\n",
      "[1]\n",
      "audio_file (3).wav\n",
      "[1]\n",
      "Usecase1_2.wav\n",
      "[1]\n",
      "CancelCard.mp3\n",
      "[1]\n",
      "creditcard_bill.mp3\n",
      "[1]\n",
      "audio_file (2).wav\n",
      "[0]\n",
      "Usecase_2_1_AI.wav\n",
      "[1]\n",
      "1.4_Audio_AI.wav\n",
      "[1]\n",
      "speech_20240213171731937.mp3\n",
      "[1]\n",
      "1.1_Audio_AI.wav\n",
      "[1]\n",
      "audio_file.wav\n",
      "[0]\n",
      "bike_service.mp3\n",
      "[1]\n",
      "Usecase1_1.wav\n",
      "[1]\n",
      "audio_file (1).wav\n",
      "[1]\n",
      "speech_20240213171944357.mp3\n",
      "[1]\n",
      "Usecase_2_1_Human.wav\n",
      "[1]\n",
      "1.3_Audio_HM.wav\n",
      "[0]\n",
      "1.2_Audio_HM.wav\n",
      "[0]\n",
      "5 out of 19\n",
      "26.31578947368421\n"
     ]
    }
   ],
   "source": [
    "audio_file_path = '/kaggle/input/sample-hackathon-dataset/identity-personification/synthetic-audio-train'\n",
    "correct = 0\n",
    "total = 0\n",
    "for fileName in os.listdir(audio_file_path):\n",
    "    print(fileName)\n",
    "    file_path = os.path.join(audio_file_path, fileName)\n",
    "    features = give_audio_feature(file_path)\n",
    "#     features = features.reshape(-1, 41)\n",
    "    columns = [f'feature_{i}' for i in range(len(features))]\n",
    "    data = [features]\n",
    "    df = pd.DataFrame(data, columns=columns)\n",
    "    df.head()\n",
    "    y_pred= xgb.predict(df)\n",
    "    print(y_pred) \n",
    "    total += 1\n",
    "    if y_pred[0] == 0:\n",
    "        correct += 1\n",
    "\n",
    "print(f'{correct} out of {total}')\n",
    "print((correct/total)*100)"
   ]
  },
  {
   "cell_type": "code",
   "execution_count": null,
   "id": "609f6f4e",
   "metadata": {
    "papermill": {
     "duration": 0.050625,
     "end_time": "2024-03-18T09:42:26.613505",
     "exception": false,
     "start_time": "2024-03-18T09:42:26.562880",
     "status": "completed"
    },
    "tags": []
   },
   "outputs": [],
   "source": []
  },
  {
   "cell_type": "code",
   "execution_count": null,
   "id": "3287707d",
   "metadata": {
    "papermill": {
     "duration": 0.050755,
     "end_time": "2024-03-18T09:42:26.715914",
     "exception": false,
     "start_time": "2024-03-18T09:42:26.665159",
     "status": "completed"
    },
    "tags": []
   },
   "outputs": [],
   "source": []
  }
 ],
 "metadata": {
  "kaggle": {
   "accelerator": "none",
   "dataSources": [
    {
     "datasetId": 583888,
     "sourceId": 1070223,
     "sourceType": "datasetVersion"
    },
    {
     "datasetId": 1159053,
     "sourceId": 1942970,
     "sourceType": "datasetVersion"
    },
    {
     "datasetId": 3579787,
     "sourceId": 6358196,
     "sourceType": "datasetVersion"
    },
    {
     "datasetId": 4602019,
     "sourceId": 7848185,
     "sourceType": "datasetVersion"
    },
    {
     "datasetId": 4604605,
     "sourceId": 7851594,
     "sourceType": "datasetVersion"
    },
    {
     "datasetId": 4605176,
     "sourceId": 7852341,
     "sourceType": "datasetVersion"
    },
    {
     "datasetId": 4605191,
     "sourceId": 7852358,
     "sourceType": "datasetVersion"
    },
    {
     "datasetId": 4605221,
     "sourceId": 7852394,
     "sourceType": "datasetVersion"
    },
    {
     "datasetId": 4605235,
     "sourceId": 7852410,
     "sourceType": "datasetVersion"
    },
    {
     "datasetId": 4604439,
     "sourceId": 7853210,
     "sourceType": "datasetVersion"
    },
    {
     "datasetId": 4611846,
     "sourceId": 7864352,
     "sourceType": "datasetVersion"
    },
    {
     "datasetId": 4611190,
     "sourceId": 7865957,
     "sourceType": "datasetVersion"
    },
    {
     "datasetId": 4619478,
     "sourceId": 7872518,
     "sourceType": "datasetVersion"
    }
   ],
   "isGpuEnabled": false,
   "isInternetEnabled": true,
   "language": "python",
   "sourceType": "notebook"
  },
  "kernelspec": {
   "display_name": "Python 3",
   "language": "python",
   "name": "python3"
  },
  "language_info": {
   "codemirror_mode": {
    "name": "ipython",
    "version": 3
   },
   "file_extension": ".py",
   "mimetype": "text/x-python",
   "name": "python",
   "nbconvert_exporter": "python",
   "pygments_lexer": "ipython3",
   "version": "3.10.13"
  },
  "papermill": {
   "default_parameters": {},
   "duration": 6764.185921,
   "end_time": "2024-03-18T09:42:29.406314",
   "environment_variables": {},
   "exception": null,
   "input_path": "__notebook__.ipynb",
   "output_path": "__notebook__.ipynb",
   "parameters": {},
   "start_time": "2024-03-18T07:49:45.220393",
   "version": "2.5.0"
  }
 },
 "nbformat": 4,
 "nbformat_minor": 5
}
